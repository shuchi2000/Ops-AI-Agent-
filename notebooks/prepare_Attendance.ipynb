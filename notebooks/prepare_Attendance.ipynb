{
 "cells": [
  {
   "cell_type": "code",
   "execution_count": 1,
   "metadata": {},
   "outputs": [],
   "source": [
    "import pandas as pd \n",
    "\n",
    "clients = pd.read_csv(r\"G:\\My Drive\\ML\\2025\\Project\\Database Agent\\data\\enquriousV2_clients.csv\")\n",
    "content = pd.read_csv(r\"G:\\My Drive\\ML\\2025\\Project\\Database Agent\\data\\enquriousV2_contents.csv\")\n",
    "deployment = pd.read_csv(r\"G:\\My Drive\\ML\\2025\\Project\\Database Agent\\data\\enquriousV2_deployments.csv\")\n",
    "evaluation = pd.read_csv(r\"G:\\My Drive\\ML\\2025\\Project\\Database Agent\\data\\enquriousV2_evaluations.csv\")\n",
    "programs  = pd.read_csv(r\"G:\\My Drive\\ML\\2025\\Project\\Database Agent\\data\\enquriousV2_programs.csv\")\n",
    "program_wise_learners = pd.read_csv(r\"G:\\My Drive\\ML\\2025\\Project\\Database Agent\\data\\enquriousV2_program_wise_learners.csv\")\n",
    "progress = pd.read_csv(r\"G:\\My Drive\\ML\\2025\\Project\\Database Agent\\data\\enquriousV2_progress.csv\")\n",
    "learners  = pd.read_csv(r\"G:\\My Drive\\ML\\2025\\Project\\Database Agent\\data\\enquriousV2_learners.csv\")\n",
    "attendance = pd.read_csv(r\"G:\\My Drive\\ML\\2025\\Project\\Database Agent\\data\\enquriousV2_attendance.csv\")"
   ]
  },
  {
   "cell_type": "markdown",
   "metadata": {},
   "source": [
    "## Let's prepare Attendance information \n",
    "\n",
    "**Goal—to get learner attendance grouped by client and program—you typically need:**\n",
    "\n",
    "* All learners for a given client and program (even if some have zero attendance).\n",
    "* Their attendance records (meeting join/left times, etc.) when available."
   ]
  },
  {
   "cell_type": "code",
   "execution_count": 2,
   "metadata": {},
   "outputs": [
    {
     "data": {
      "text/html": [
       "<div>\n",
       "<style scoped>\n",
       "    .dataframe tbody tr th:only-of-type {\n",
       "        vertical-align: middle;\n",
       "    }\n",
       "\n",
       "    .dataframe tbody tr th {\n",
       "        vertical-align: top;\n",
       "    }\n",
       "\n",
       "    .dataframe thead th {\n",
       "        text-align: right;\n",
       "    }\n",
       "</style>\n",
       "<table border=\"1\" class=\"dataframe\">\n",
       "  <thead>\n",
       "    <tr style=\"text-align: right;\">\n",
       "      <th></th>\n",
       "      <th>id</th>\n",
       "      <th>learner_id</th>\n",
       "      <th>meeting_id</th>\n",
       "      <th>learner_joined_at</th>\n",
       "      <th>learner_left_at</th>\n",
       "    </tr>\n",
       "  </thead>\n",
       "  <tbody>\n",
       "    <tr>\n",
       "      <th>0</th>\n",
       "      <td>EFB0A2D0-AB94-48D3-9656-00166E8E7CEA</td>\n",
       "      <td>FDA35EDE-2DB2-4A15-B0FD-052C52705FEA</td>\n",
       "      <td>073AF799-B36D-498A-8F18-E41594B0D152</td>\n",
       "      <td>2024-12-05 02:32:55</td>\n",
       "      <td>2024-12-05 04:13:24</td>\n",
       "    </tr>\n",
       "    <tr>\n",
       "      <th>1</th>\n",
       "      <td>FA57407C-B9A3-4CC2-8BF5-001F9E0FBC13</td>\n",
       "      <td>8B30B5BB-FE3F-4C34-8DA7-A2CD8614471E</td>\n",
       "      <td>135A9C82-2890-421A-A604-F8BF6886FBC3</td>\n",
       "      <td>2024-10-04 08:37:50</td>\n",
       "      <td>2024-10-04 10:01:11</td>\n",
       "    </tr>\n",
       "    <tr>\n",
       "      <th>2</th>\n",
       "      <td>CD04C3A2-9E1B-4F7B-B7BE-0037513D5314</td>\n",
       "      <td>0DCFCD3E-AF50-4738-8716-4EE4A2607D10</td>\n",
       "      <td>DE02FFAA-3089-4BB2-8484-B77CC4CBADC1</td>\n",
       "      <td>2024-10-08 09:32:28</td>\n",
       "      <td>2024-10-08 10:06:25</td>\n",
       "    </tr>\n",
       "    <tr>\n",
       "      <th>3</th>\n",
       "      <td>62C20D13-9A90-4E75-9A89-0050A8742964</td>\n",
       "      <td>D8C39EB3-CFF5-4B22-93E7-40DFAACE6048</td>\n",
       "      <td>073AF799-B36D-498A-8F18-E41594B0D152</td>\n",
       "      <td>2024-12-05 02:33:54</td>\n",
       "      <td>2024-12-05 03:13:12</td>\n",
       "    </tr>\n",
       "    <tr>\n",
       "      <th>4</th>\n",
       "      <td>D8519E61-7B14-46D9-A7E3-006BAA5CA386</td>\n",
       "      <td>227FE42D-70DE-4594-95B3-5BB926AF3EF6</td>\n",
       "      <td>073AF799-B36D-498A-8F18-E41594B0D152</td>\n",
       "      <td>2024-12-05 03:29:51</td>\n",
       "      <td>2024-12-05 03:31:33</td>\n",
       "    </tr>\n",
       "  </tbody>\n",
       "</table>\n",
       "</div>"
      ],
      "text/plain": [
       "                                     id                            learner_id  \\\n",
       "0  EFB0A2D0-AB94-48D3-9656-00166E8E7CEA  FDA35EDE-2DB2-4A15-B0FD-052C52705FEA   \n",
       "1  FA57407C-B9A3-4CC2-8BF5-001F9E0FBC13  8B30B5BB-FE3F-4C34-8DA7-A2CD8614471E   \n",
       "2  CD04C3A2-9E1B-4F7B-B7BE-0037513D5314  0DCFCD3E-AF50-4738-8716-4EE4A2607D10   \n",
       "3  62C20D13-9A90-4E75-9A89-0050A8742964  D8C39EB3-CFF5-4B22-93E7-40DFAACE6048   \n",
       "4  D8519E61-7B14-46D9-A7E3-006BAA5CA386  227FE42D-70DE-4594-95B3-5BB926AF3EF6   \n",
       "\n",
       "                             meeting_id    learner_joined_at  \\\n",
       "0  073AF799-B36D-498A-8F18-E41594B0D152  2024-12-05 02:32:55   \n",
       "1  135A9C82-2890-421A-A604-F8BF6886FBC3  2024-10-04 08:37:50   \n",
       "2  DE02FFAA-3089-4BB2-8484-B77CC4CBADC1  2024-10-08 09:32:28   \n",
       "3  073AF799-B36D-498A-8F18-E41594B0D152  2024-12-05 02:33:54   \n",
       "4  073AF799-B36D-498A-8F18-E41594B0D152  2024-12-05 03:29:51   \n",
       "\n",
       "       learner_left_at  \n",
       "0  2024-12-05 04:13:24  \n",
       "1  2024-10-04 10:01:11  \n",
       "2  2024-10-08 10:06:25  \n",
       "3  2024-12-05 03:13:12  \n",
       "4  2024-12-05 03:31:33  "
      ]
     },
     "execution_count": 2,
     "metadata": {},
     "output_type": "execute_result"
    }
   ],
   "source": [
    "attendance.head()"
   ]
  },
  {
   "cell_type": "code",
   "execution_count": 3,
   "metadata": {},
   "outputs": [
    {
     "data": {
      "text/plain": [
       "91"
      ]
     },
     "execution_count": 3,
     "metadata": {},
     "output_type": "execute_result"
    }
   ],
   "source": [
    "attendance.learner_id.nunique()"
   ]
  },
  {
   "cell_type": "code",
   "execution_count": 4,
   "metadata": {},
   "outputs": [
    {
     "data": {
      "text/plain": [
       "(1380, 5)"
      ]
     },
     "execution_count": 4,
     "metadata": {},
     "output_type": "execute_result"
    }
   ],
   "source": [
    "attendance.shape"
   ]
  },
  {
   "cell_type": "code",
   "execution_count": 5,
   "metadata": {},
   "outputs": [
    {
     "data": {
      "text/plain": [
       "73"
      ]
     },
     "execution_count": 5,
     "metadata": {},
     "output_type": "execute_result"
    }
   ],
   "source": [
    "attendance.meeting_id.nunique()"
   ]
  },
  {
   "cell_type": "code",
   "execution_count": 6,
   "metadata": {},
   "outputs": [
    {
     "data": {
      "text/html": [
       "<div>\n",
       "<style scoped>\n",
       "    .dataframe tbody tr th:only-of-type {\n",
       "        vertical-align: middle;\n",
       "    }\n",
       "\n",
       "    .dataframe tbody tr th {\n",
       "        vertical-align: top;\n",
       "    }\n",
       "\n",
       "    .dataframe thead th {\n",
       "        text-align: right;\n",
       "    }\n",
       "</style>\n",
       "<table border=\"1\" class=\"dataframe\">\n",
       "  <thead>\n",
       "    <tr style=\"text-align: right;\">\n",
       "      <th></th>\n",
       "      <th>id</th>\n",
       "      <th>email</th>\n",
       "      <th>name</th>\n",
       "    </tr>\n",
       "  </thead>\n",
       "  <tbody>\n",
       "    <tr>\n",
       "      <th>0</th>\n",
       "      <td>64A02C79-4457-43C7-80FA-00BB5CE650F7</td>\n",
       "      <td>saylee.patil@tredence.com</td>\n",
       "      <td>Saylee Patil</td>\n",
       "    </tr>\n",
       "    <tr>\n",
       "      <th>1</th>\n",
       "      <td>D8A67633-900D-46EC-BEE9-00F16669DBE6</td>\n",
       "      <td>rohitkumar.danda@tigeranalytics.com</td>\n",
       "      <td>ROHITKUMAR DANDA</td>\n",
       "    </tr>\n",
       "    <tr>\n",
       "      <th>2</th>\n",
       "      <td>6D4F1966-591D-49AC-A5AE-00F50EB2F8F7</td>\n",
       "      <td>aniket.mitra01@tredence.com</td>\n",
       "      <td>Aniket Mitra</td>\n",
       "    </tr>\n",
       "    <tr>\n",
       "      <th>3</th>\n",
       "      <td>6E0D13FC-71D9-4826-9677-014D48C1BA13</td>\n",
       "      <td>sonthaliavansika@gmail.com</td>\n",
       "      <td>Vansika Sonthalia</td>\n",
       "    </tr>\n",
       "    <tr>\n",
       "      <th>4</th>\n",
       "      <td>5C64A63A-EC64-4A13-928A-01557E01C307</td>\n",
       "      <td>ashwini.kayartaya@fractal.ai</td>\n",
       "      <td>Ashwini Kayartaya</td>\n",
       "    </tr>\n",
       "  </tbody>\n",
       "</table>\n",
       "</div>"
      ],
      "text/plain": [
       "                                     id                                email  \\\n",
       "0  64A02C79-4457-43C7-80FA-00BB5CE650F7            saylee.patil@tredence.com   \n",
       "1  D8A67633-900D-46EC-BEE9-00F16669DBE6  rohitkumar.danda@tigeranalytics.com   \n",
       "2  6D4F1966-591D-49AC-A5AE-00F50EB2F8F7          aniket.mitra01@tredence.com   \n",
       "3  6E0D13FC-71D9-4826-9677-014D48C1BA13           sonthaliavansika@gmail.com   \n",
       "4  5C64A63A-EC64-4A13-928A-01557E01C307         ashwini.kayartaya@fractal.ai   \n",
       "\n",
       "                name  \n",
       "0       Saylee Patil  \n",
       "1   ROHITKUMAR DANDA  \n",
       "2       Aniket Mitra  \n",
       "3  Vansika Sonthalia  \n",
       "4  Ashwini Kayartaya  "
      ]
     },
     "execution_count": 6,
     "metadata": {},
     "output_type": "execute_result"
    }
   ],
   "source": [
    "learners.head()"
   ]
  },
  {
   "cell_type": "code",
   "execution_count": 7,
   "metadata": {},
   "outputs": [
    {
     "data": {
      "text/html": [
       "<div>\n",
       "<style scoped>\n",
       "    .dataframe tbody tr th:only-of-type {\n",
       "        vertical-align: middle;\n",
       "    }\n",
       "\n",
       "    .dataframe tbody tr th {\n",
       "        vertical-align: top;\n",
       "    }\n",
       "\n",
       "    .dataframe thead th {\n",
       "        text-align: right;\n",
       "    }\n",
       "</style>\n",
       "<table border=\"1\" class=\"dataframe\">\n",
       "  <thead>\n",
       "    <tr style=\"text-align: right;\">\n",
       "      <th></th>\n",
       "      <th>id_x</th>\n",
       "      <th>learner_id</th>\n",
       "      <th>meeting_id</th>\n",
       "      <th>learner_joined_at</th>\n",
       "      <th>learner_left_at</th>\n",
       "      <th>id_y</th>\n",
       "      <th>email</th>\n",
       "      <th>name</th>\n",
       "    </tr>\n",
       "  </thead>\n",
       "  <tbody>\n",
       "    <tr>\n",
       "      <th>0</th>\n",
       "      <td>EFB0A2D0-AB94-48D3-9656-00166E8E7CEA</td>\n",
       "      <td>FDA35EDE-2DB2-4A15-B0FD-052C52705FEA</td>\n",
       "      <td>073AF799-B36D-498A-8F18-E41594B0D152</td>\n",
       "      <td>2024-12-05 02:32:55</td>\n",
       "      <td>2024-12-05 04:13:24</td>\n",
       "      <td>FDA35EDE-2DB2-4A15-B0FD-052C52705FEA</td>\n",
       "      <td>sayar.chowdhury@tredence.com</td>\n",
       "      <td>Sayar Roy Chowdhury</td>\n",
       "    </tr>\n",
       "    <tr>\n",
       "      <th>1</th>\n",
       "      <td>FA57407C-B9A3-4CC2-8BF5-001F9E0FBC13</td>\n",
       "      <td>8B30B5BB-FE3F-4C34-8DA7-A2CD8614471E</td>\n",
       "      <td>135A9C82-2890-421A-A604-F8BF6886FBC3</td>\n",
       "      <td>2024-10-04 08:37:50</td>\n",
       "      <td>2024-10-04 10:01:11</td>\n",
       "      <td>8B30B5BB-FE3F-4C34-8DA7-A2CD8614471E</td>\n",
       "      <td>akshay.misal@tredence.com</td>\n",
       "      <td>Akshay Misal</td>\n",
       "    </tr>\n",
       "    <tr>\n",
       "      <th>2</th>\n",
       "      <td>CD04C3A2-9E1B-4F7B-B7BE-0037513D5314</td>\n",
       "      <td>0DCFCD3E-AF50-4738-8716-4EE4A2607D10</td>\n",
       "      <td>DE02FFAA-3089-4BB2-8484-B77CC4CBADC1</td>\n",
       "      <td>2024-10-08 09:32:28</td>\n",
       "      <td>2024-10-08 10:06:25</td>\n",
       "      <td>0DCFCD3E-AF50-4738-8716-4EE4A2607D10</td>\n",
       "      <td>vineeth.chithaluri@tredence.com</td>\n",
       "      <td>Vineeth Chithaluri</td>\n",
       "    </tr>\n",
       "    <tr>\n",
       "      <th>3</th>\n",
       "      <td>62C20D13-9A90-4E75-9A89-0050A8742964</td>\n",
       "      <td>D8C39EB3-CFF5-4B22-93E7-40DFAACE6048</td>\n",
       "      <td>073AF799-B36D-498A-8F18-E41594B0D152</td>\n",
       "      <td>2024-12-05 02:33:54</td>\n",
       "      <td>2024-12-05 03:13:12</td>\n",
       "      <td>D8C39EB3-CFF5-4B22-93E7-40DFAACE6048</td>\n",
       "      <td>anishkha.c@tredence.com</td>\n",
       "      <td>Anishkha Chandrasekar</td>\n",
       "    </tr>\n",
       "    <tr>\n",
       "      <th>4</th>\n",
       "      <td>D8519E61-7B14-46D9-A7E3-006BAA5CA386</td>\n",
       "      <td>227FE42D-70DE-4594-95B3-5BB926AF3EF6</td>\n",
       "      <td>073AF799-B36D-498A-8F18-E41594B0D152</td>\n",
       "      <td>2024-12-05 03:29:51</td>\n",
       "      <td>2024-12-05 03:31:33</td>\n",
       "      <td>227FE42D-70DE-4594-95B3-5BB926AF3EF6</td>\n",
       "      <td>gangireddy.reddy@tredence.com</td>\n",
       "      <td>Gangireddy Pranitha Reddy</td>\n",
       "    </tr>\n",
       "  </tbody>\n",
       "</table>\n",
       "</div>"
      ],
      "text/plain": [
       "                                   id_x                            learner_id  \\\n",
       "0  EFB0A2D0-AB94-48D3-9656-00166E8E7CEA  FDA35EDE-2DB2-4A15-B0FD-052C52705FEA   \n",
       "1  FA57407C-B9A3-4CC2-8BF5-001F9E0FBC13  8B30B5BB-FE3F-4C34-8DA7-A2CD8614471E   \n",
       "2  CD04C3A2-9E1B-4F7B-B7BE-0037513D5314  0DCFCD3E-AF50-4738-8716-4EE4A2607D10   \n",
       "3  62C20D13-9A90-4E75-9A89-0050A8742964  D8C39EB3-CFF5-4B22-93E7-40DFAACE6048   \n",
       "4  D8519E61-7B14-46D9-A7E3-006BAA5CA386  227FE42D-70DE-4594-95B3-5BB926AF3EF6   \n",
       "\n",
       "                             meeting_id    learner_joined_at  \\\n",
       "0  073AF799-B36D-498A-8F18-E41594B0D152  2024-12-05 02:32:55   \n",
       "1  135A9C82-2890-421A-A604-F8BF6886FBC3  2024-10-04 08:37:50   \n",
       "2  DE02FFAA-3089-4BB2-8484-B77CC4CBADC1  2024-10-08 09:32:28   \n",
       "3  073AF799-B36D-498A-8F18-E41594B0D152  2024-12-05 02:33:54   \n",
       "4  073AF799-B36D-498A-8F18-E41594B0D152  2024-12-05 03:29:51   \n",
       "\n",
       "       learner_left_at                                  id_y  \\\n",
       "0  2024-12-05 04:13:24  FDA35EDE-2DB2-4A15-B0FD-052C52705FEA   \n",
       "1  2024-10-04 10:01:11  8B30B5BB-FE3F-4C34-8DA7-A2CD8614471E   \n",
       "2  2024-10-08 10:06:25  0DCFCD3E-AF50-4738-8716-4EE4A2607D10   \n",
       "3  2024-12-05 03:13:12  D8C39EB3-CFF5-4B22-93E7-40DFAACE6048   \n",
       "4  2024-12-05 03:31:33  227FE42D-70DE-4594-95B3-5BB926AF3EF6   \n",
       "\n",
       "                             email                       name  \n",
       "0     sayar.chowdhury@tredence.com        Sayar Roy Chowdhury  \n",
       "1        akshay.misal@tredence.com               Akshay Misal  \n",
       "2  vineeth.chithaluri@tredence.com         Vineeth Chithaluri  \n",
       "3          anishkha.c@tredence.com      Anishkha Chandrasekar  \n",
       "4    gangireddy.reddy@tredence.com  Gangireddy Pranitha Reddy  "
      ]
     },
     "execution_count": 7,
     "metadata": {},
     "output_type": "execute_result"
    }
   ],
   "source": [
    "df = attendance.merge(learners, left_on=\"learner_id\", right_on=\"id\", how=\"left\")\n",
    "df.head()"
   ]
  },
  {
   "cell_type": "code",
   "execution_count": 8,
   "metadata": {},
   "outputs": [
    {
     "data": {
      "text/html": [
       "<div>\n",
       "<style scoped>\n",
       "    .dataframe tbody tr th:only-of-type {\n",
       "        vertical-align: middle;\n",
       "    }\n",
       "\n",
       "    .dataframe tbody tr th {\n",
       "        vertical-align: top;\n",
       "    }\n",
       "\n",
       "    .dataframe thead th {\n",
       "        text-align: right;\n",
       "    }\n",
       "</style>\n",
       "<table border=\"1\" class=\"dataframe\">\n",
       "  <thead>\n",
       "    <tr style=\"text-align: right;\">\n",
       "      <th></th>\n",
       "      <th>meeting</th>\n",
       "      <th>learner_id</th>\n",
       "      <th>meeting_id</th>\n",
       "      <th>learner_joined_at</th>\n",
       "      <th>learner_left_at</th>\n",
       "      <th>email</th>\n",
       "      <th>name</th>\n",
       "    </tr>\n",
       "  </thead>\n",
       "  <tbody>\n",
       "    <tr>\n",
       "      <th>0</th>\n",
       "      <td>EFB0A2D0-AB94-48D3-9656-00166E8E7CEA</td>\n",
       "      <td>FDA35EDE-2DB2-4A15-B0FD-052C52705FEA</td>\n",
       "      <td>073AF799-B36D-498A-8F18-E41594B0D152</td>\n",
       "      <td>2024-12-05 02:32:55</td>\n",
       "      <td>2024-12-05 04:13:24</td>\n",
       "      <td>sayar.chowdhury@tredence.com</td>\n",
       "      <td>Sayar Roy Chowdhury</td>\n",
       "    </tr>\n",
       "    <tr>\n",
       "      <th>1</th>\n",
       "      <td>FA57407C-B9A3-4CC2-8BF5-001F9E0FBC13</td>\n",
       "      <td>8B30B5BB-FE3F-4C34-8DA7-A2CD8614471E</td>\n",
       "      <td>135A9C82-2890-421A-A604-F8BF6886FBC3</td>\n",
       "      <td>2024-10-04 08:37:50</td>\n",
       "      <td>2024-10-04 10:01:11</td>\n",
       "      <td>akshay.misal@tredence.com</td>\n",
       "      <td>Akshay Misal</td>\n",
       "    </tr>\n",
       "    <tr>\n",
       "      <th>2</th>\n",
       "      <td>CD04C3A2-9E1B-4F7B-B7BE-0037513D5314</td>\n",
       "      <td>0DCFCD3E-AF50-4738-8716-4EE4A2607D10</td>\n",
       "      <td>DE02FFAA-3089-4BB2-8484-B77CC4CBADC1</td>\n",
       "      <td>2024-10-08 09:32:28</td>\n",
       "      <td>2024-10-08 10:06:25</td>\n",
       "      <td>vineeth.chithaluri@tredence.com</td>\n",
       "      <td>Vineeth Chithaluri</td>\n",
       "    </tr>\n",
       "    <tr>\n",
       "      <th>3</th>\n",
       "      <td>62C20D13-9A90-4E75-9A89-0050A8742964</td>\n",
       "      <td>D8C39EB3-CFF5-4B22-93E7-40DFAACE6048</td>\n",
       "      <td>073AF799-B36D-498A-8F18-E41594B0D152</td>\n",
       "      <td>2024-12-05 02:33:54</td>\n",
       "      <td>2024-12-05 03:13:12</td>\n",
       "      <td>anishkha.c@tredence.com</td>\n",
       "      <td>Anishkha Chandrasekar</td>\n",
       "    </tr>\n",
       "    <tr>\n",
       "      <th>4</th>\n",
       "      <td>D8519E61-7B14-46D9-A7E3-006BAA5CA386</td>\n",
       "      <td>227FE42D-70DE-4594-95B3-5BB926AF3EF6</td>\n",
       "      <td>073AF799-B36D-498A-8F18-E41594B0D152</td>\n",
       "      <td>2024-12-05 03:29:51</td>\n",
       "      <td>2024-12-05 03:31:33</td>\n",
       "      <td>gangireddy.reddy@tredence.com</td>\n",
       "      <td>Gangireddy Pranitha Reddy</td>\n",
       "    </tr>\n",
       "  </tbody>\n",
       "</table>\n",
       "</div>"
      ],
      "text/plain": [
       "                                meeting                            learner_id  \\\n",
       "0  EFB0A2D0-AB94-48D3-9656-00166E8E7CEA  FDA35EDE-2DB2-4A15-B0FD-052C52705FEA   \n",
       "1  FA57407C-B9A3-4CC2-8BF5-001F9E0FBC13  8B30B5BB-FE3F-4C34-8DA7-A2CD8614471E   \n",
       "2  CD04C3A2-9E1B-4F7B-B7BE-0037513D5314  0DCFCD3E-AF50-4738-8716-4EE4A2607D10   \n",
       "3  62C20D13-9A90-4E75-9A89-0050A8742964  D8C39EB3-CFF5-4B22-93E7-40DFAACE6048   \n",
       "4  D8519E61-7B14-46D9-A7E3-006BAA5CA386  227FE42D-70DE-4594-95B3-5BB926AF3EF6   \n",
       "\n",
       "                             meeting_id    learner_joined_at  \\\n",
       "0  073AF799-B36D-498A-8F18-E41594B0D152  2024-12-05 02:32:55   \n",
       "1  135A9C82-2890-421A-A604-F8BF6886FBC3  2024-10-04 08:37:50   \n",
       "2  DE02FFAA-3089-4BB2-8484-B77CC4CBADC1  2024-10-08 09:32:28   \n",
       "3  073AF799-B36D-498A-8F18-E41594B0D152  2024-12-05 02:33:54   \n",
       "4  073AF799-B36D-498A-8F18-E41594B0D152  2024-12-05 03:29:51   \n",
       "\n",
       "       learner_left_at                            email  \\\n",
       "0  2024-12-05 04:13:24     sayar.chowdhury@tredence.com   \n",
       "1  2024-10-04 10:01:11        akshay.misal@tredence.com   \n",
       "2  2024-10-08 10:06:25  vineeth.chithaluri@tredence.com   \n",
       "3  2024-12-05 03:13:12          anishkha.c@tredence.com   \n",
       "4  2024-12-05 03:31:33    gangireddy.reddy@tredence.com   \n",
       "\n",
       "                        name  \n",
       "0        Sayar Roy Chowdhury  \n",
       "1               Akshay Misal  \n",
       "2         Vineeth Chithaluri  \n",
       "3      Anishkha Chandrasekar  \n",
       "4  Gangireddy Pranitha Reddy  "
      ]
     },
     "execution_count": 8,
     "metadata": {},
     "output_type": "execute_result"
    }
   ],
   "source": [
    "df.rename(columns={'id_x':\"meeting\"},inplace=True)\n",
    "df.drop(['id_y'], axis=1, inplace=True)\n",
    "df.head()"
   ]
  },
  {
   "cell_type": "code",
   "execution_count": 9,
   "metadata": {},
   "outputs": [
    {
     "data": {
      "text/html": [
       "<div>\n",
       "<style scoped>\n",
       "    .dataframe tbody tr th:only-of-type {\n",
       "        vertical-align: middle;\n",
       "    }\n",
       "\n",
       "    .dataframe tbody tr th {\n",
       "        vertical-align: top;\n",
       "    }\n",
       "\n",
       "    .dataframe thead th {\n",
       "        text-align: right;\n",
       "    }\n",
       "</style>\n",
       "<table border=\"1\" class=\"dataframe\">\n",
       "  <thead>\n",
       "    <tr style=\"text-align: right;\">\n",
       "      <th></th>\n",
       "      <th>id</th>\n",
       "      <th>code</th>\n",
       "      <th>code_description</th>\n",
       "      <th>owner_emails</th>\n",
       "      <th>spoc_emails</th>\n",
       "      <th>client_id</th>\n",
       "      <th>is_active</th>\n",
       "      <th>created_at</th>\n",
       "    </tr>\n",
       "  </thead>\n",
       "  <tbody>\n",
       "    <tr>\n",
       "      <th>0</th>\n",
       "      <td>F25FFAB6-15DF-4774-9C10-03CF263BF920</td>\n",
       "      <td>tredence-alchemy-adv-batch-3-oct-24</td>\n",
       "      <td>tredence-alchemy-adv-batch-3-oct-24</td>\n",
       "      <td>[ayushi@mentorskool.com, sayli@mentorskool.com...</td>\n",
       "      <td>[nagesh.v@tredence.com, nikitha.s@tredence.com,]</td>\n",
       "      <td>C766EF53-3E92-4C74-9B84-E324EE774E95</td>\n",
       "      <td>False</td>\n",
       "      <td>2024-11-06 05:40:20.790</td>\n",
       "    </tr>\n",
       "    <tr>\n",
       "      <th>1</th>\n",
       "      <td>A5010170-EFA2-4C7C-84DE-080246D15803</td>\n",
       "      <td>tredence-alchemy-adv-batch-3-dbx-oct-24</td>\n",
       "      <td>Tredence Alchemy Advance Batch 3 Databricks Oc...</td>\n",
       "      <td>[ayushi@mentorskool.com, sayli@mentorskool.com...</td>\n",
       "      <td>[nagesh.v@tredence.com, nikitha.s@tredence.com,]</td>\n",
       "      <td>C766EF53-3E92-4C74-9B84-E324EE774E95</td>\n",
       "      <td>False</td>\n",
       "      <td>2024-11-06 06:05:46.030</td>\n",
       "    </tr>\n",
       "    <tr>\n",
       "      <th>2</th>\n",
       "      <td>4A98F2AD-DE48-490A-AD9A-0B820054935D</td>\n",
       "      <td>data-science-hackathon-march-25</td>\n",
       "      <td>data-science-hackathon-march-25</td>\n",
       "      <td>[soma@mentorskool.com]</td>\n",
       "      <td>[vaibhav.pathak@fractal.ai]</td>\n",
       "      <td>E34E7F2B-49AF-4559-9184-28F6E8C95E05</td>\n",
       "      <td>True</td>\n",
       "      <td>2025-03-04 11:27:00.360</td>\n",
       "    </tr>\n",
       "    <tr>\n",
       "      <th>3</th>\n",
       "      <td>2935B90F-BC86-4C2B-98B2-1AE9F84D8AF8</td>\n",
       "      <td>tredence-snowpro-core-cert-ind-sep-24</td>\n",
       "      <td>Tredence Laterals Snowpro Sep Batch</td>\n",
       "      <td>[mandar@mentorskool.com]</td>\n",
       "      <td>[madhavi.gadde@tredence.com, manisha.bairwa@tr...</td>\n",
       "      <td>C766EF53-3E92-4C74-9B84-E324EE774E95</td>\n",
       "      <td>False</td>\n",
       "      <td>2024-10-01 12:09:43.147</td>\n",
       "    </tr>\n",
       "    <tr>\n",
       "      <th>4</th>\n",
       "      <td>F4429D45-4142-488E-AA84-2DF2440F4A6A</td>\n",
       "      <td>adv-sql-24-25</td>\n",
       "      <td>tiger-advanced-sql-24-25</td>\n",
       "      <td>[amit@mentorskool.com]</td>\n",
       "      <td>[nivedha.ashok@tigeranalytics.com]</td>\n",
       "      <td>24BAE8B4-8113-402E-B00D-2311FB49E09F</td>\n",
       "      <td>True</td>\n",
       "      <td>2024-12-19 17:16:35.650</td>\n",
       "    </tr>\n",
       "  </tbody>\n",
       "</table>\n",
       "</div>"
      ],
      "text/plain": [
       "                                     id  \\\n",
       "0  F25FFAB6-15DF-4774-9C10-03CF263BF920   \n",
       "1  A5010170-EFA2-4C7C-84DE-080246D15803   \n",
       "2  4A98F2AD-DE48-490A-AD9A-0B820054935D   \n",
       "3  2935B90F-BC86-4C2B-98B2-1AE9F84D8AF8   \n",
       "4  F4429D45-4142-488E-AA84-2DF2440F4A6A   \n",
       "\n",
       "                                      code  \\\n",
       "0      tredence-alchemy-adv-batch-3-oct-24   \n",
       "1  tredence-alchemy-adv-batch-3-dbx-oct-24   \n",
       "2          data-science-hackathon-march-25   \n",
       "3    tredence-snowpro-core-cert-ind-sep-24   \n",
       "4                            adv-sql-24-25   \n",
       "\n",
       "                                    code_description  \\\n",
       "0                tredence-alchemy-adv-batch-3-oct-24   \n",
       "1  Tredence Alchemy Advance Batch 3 Databricks Oc...   \n",
       "2                    data-science-hackathon-march-25   \n",
       "3                Tredence Laterals Snowpro Sep Batch   \n",
       "4                           tiger-advanced-sql-24-25   \n",
       "\n",
       "                                        owner_emails  \\\n",
       "0  [ayushi@mentorskool.com, sayli@mentorskool.com...   \n",
       "1  [ayushi@mentorskool.com, sayli@mentorskool.com...   \n",
       "2                             [soma@mentorskool.com]   \n",
       "3                           [mandar@mentorskool.com]   \n",
       "4                             [amit@mentorskool.com]   \n",
       "\n",
       "                                         spoc_emails  \\\n",
       "0   [nagesh.v@tredence.com, nikitha.s@tredence.com,]   \n",
       "1   [nagesh.v@tredence.com, nikitha.s@tredence.com,]   \n",
       "2                        [vaibhav.pathak@fractal.ai]   \n",
       "3  [madhavi.gadde@tredence.com, manisha.bairwa@tr...   \n",
       "4                 [nivedha.ashok@tigeranalytics.com]   \n",
       "\n",
       "                              client_id  is_active               created_at  \n",
       "0  C766EF53-3E92-4C74-9B84-E324EE774E95      False  2024-11-06 05:40:20.790  \n",
       "1  C766EF53-3E92-4C74-9B84-E324EE774E95      False  2024-11-06 06:05:46.030  \n",
       "2  E34E7F2B-49AF-4559-9184-28F6E8C95E05       True  2025-03-04 11:27:00.360  \n",
       "3  C766EF53-3E92-4C74-9B84-E324EE774E95      False  2024-10-01 12:09:43.147  \n",
       "4  24BAE8B4-8113-402E-B00D-2311FB49E09F       True  2024-12-19 17:16:35.650  "
      ]
     },
     "execution_count": 9,
     "metadata": {},
     "output_type": "execute_result"
    }
   ],
   "source": [
    "programs.head()"
   ]
  },
  {
   "cell_type": "code",
   "execution_count": 10,
   "metadata": {},
   "outputs": [],
   "source": [
    "df2 = programs.merge(clients, left_on=\"client_id\",right_on=\"id\", how=\"left\")"
   ]
  },
  {
   "cell_type": "code",
   "execution_count": 11,
   "metadata": {},
   "outputs": [],
   "source": [
    "df2 = df2.rename(columns={\"id_x\":\"program_id\",\"created_at_x\":\"program_created_at\"})"
   ]
  },
  {
   "cell_type": "code",
   "execution_count": 12,
   "metadata": {},
   "outputs": [],
   "source": [
    "df3 = df2.merge(program_wise_learners, left_on=\"program_id\", right_on=\"program_id\", how=\"left\")\n",
    "df3.drop([\"id_y\",\"created_at_y\"], axis=1, inplace=True)"
   ]
  },
  {
   "cell_type": "code",
   "execution_count": 13,
   "metadata": {},
   "outputs": [
    {
     "data": {
      "text/plain": [
       "Index(['program_id', 'code', 'code_description', 'owner_emails', 'spoc_emails',\n",
       "       'client_id', 'is_active', 'program_created_at', 'name', 'learner_id'],\n",
       "      dtype='object')"
      ]
     },
     "execution_count": 13,
     "metadata": {},
     "output_type": "execute_result"
    }
   ],
   "source": [
    "df3.columns"
   ]
  },
  {
   "cell_type": "code",
   "execution_count": 14,
   "metadata": {},
   "outputs": [
    {
     "data": {
      "text/plain": [
       "Index(['meeting', 'learner_id', 'meeting_id', 'learner_joined_at',\n",
       "       'learner_left_at', 'email', 'name'],\n",
       "      dtype='object')"
      ]
     },
     "execution_count": 14,
     "metadata": {},
     "output_type": "execute_result"
    }
   ],
   "source": [
    "df.columns"
   ]
  },
  {
   "cell_type": "code",
   "execution_count": 15,
   "metadata": {},
   "outputs": [
    {
     "data": {
      "text/html": [
       "<div>\n",
       "<style scoped>\n",
       "    .dataframe tbody tr th:only-of-type {\n",
       "        vertical-align: middle;\n",
       "    }\n",
       "\n",
       "    .dataframe tbody tr th {\n",
       "        vertical-align: top;\n",
       "    }\n",
       "\n",
       "    .dataframe thead th {\n",
       "        text-align: right;\n",
       "    }\n",
       "</style>\n",
       "<table border=\"1\" class=\"dataframe\">\n",
       "  <thead>\n",
       "    <tr style=\"text-align: right;\">\n",
       "      <th></th>\n",
       "      <th>program_id</th>\n",
       "      <th>code</th>\n",
       "      <th>code_description</th>\n",
       "      <th>owner_emails</th>\n",
       "      <th>spoc_emails</th>\n",
       "      <th>client_id</th>\n",
       "      <th>is_active</th>\n",
       "      <th>program_created_at</th>\n",
       "      <th>name_x</th>\n",
       "      <th>learner_id</th>\n",
       "      <th>meeting</th>\n",
       "      <th>meeting_id</th>\n",
       "      <th>learner_joined_at</th>\n",
       "      <th>learner_left_at</th>\n",
       "      <th>email</th>\n",
       "      <th>name_y</th>\n",
       "    </tr>\n",
       "  </thead>\n",
       "  <tbody>\n",
       "    <tr>\n",
       "      <th>0</th>\n",
       "      <td>F25FFAB6-15DF-4774-9C10-03CF263BF920</td>\n",
       "      <td>tredence-alchemy-adv-batch-3-oct-24</td>\n",
       "      <td>tredence-alchemy-adv-batch-3-oct-24</td>\n",
       "      <td>[ayushi@mentorskool.com, sayli@mentorskool.com...</td>\n",
       "      <td>[nagesh.v@tredence.com, nikitha.s@tredence.com,]</td>\n",
       "      <td>C766EF53-3E92-4C74-9B84-E324EE774E95</td>\n",
       "      <td>False</td>\n",
       "      <td>2024-11-06 05:40:20.790</td>\n",
       "      <td>Tredence Inc</td>\n",
       "      <td>FDA35EDE-2DB2-4A15-B0FD-052C52705FEA</td>\n",
       "      <td>EFB0A2D0-AB94-48D3-9656-00166E8E7CEA</td>\n",
       "      <td>073AF799-B36D-498A-8F18-E41594B0D152</td>\n",
       "      <td>2024-12-05 02:32:55</td>\n",
       "      <td>2024-12-05 04:13:24</td>\n",
       "      <td>sayar.chowdhury@tredence.com</td>\n",
       "      <td>Sayar Roy Chowdhury</td>\n",
       "    </tr>\n",
       "    <tr>\n",
       "      <th>1</th>\n",
       "      <td>F25FFAB6-15DF-4774-9C10-03CF263BF920</td>\n",
       "      <td>tredence-alchemy-adv-batch-3-oct-24</td>\n",
       "      <td>tredence-alchemy-adv-batch-3-oct-24</td>\n",
       "      <td>[ayushi@mentorskool.com, sayli@mentorskool.com...</td>\n",
       "      <td>[nagesh.v@tredence.com, nikitha.s@tredence.com,]</td>\n",
       "      <td>C766EF53-3E92-4C74-9B84-E324EE774E95</td>\n",
       "      <td>False</td>\n",
       "      <td>2024-11-06 05:40:20.790</td>\n",
       "      <td>Tredence Inc</td>\n",
       "      <td>FDA35EDE-2DB2-4A15-B0FD-052C52705FEA</td>\n",
       "      <td>5E521E0F-B2C7-40E0-8BED-0441B6774BAB</td>\n",
       "      <td>5CC9737C-C952-4DC6-BF44-A8449C16C783</td>\n",
       "      <td>2024-10-28 09:32:22</td>\n",
       "      <td>2024-10-28 10:13:35</td>\n",
       "      <td>sayar.chowdhury@tredence.com</td>\n",
       "      <td>Sayar Roy Chowdhury</td>\n",
       "    </tr>\n",
       "    <tr>\n",
       "      <th>2</th>\n",
       "      <td>F25FFAB6-15DF-4774-9C10-03CF263BF920</td>\n",
       "      <td>tredence-alchemy-adv-batch-3-oct-24</td>\n",
       "      <td>tredence-alchemy-adv-batch-3-oct-24</td>\n",
       "      <td>[ayushi@mentorskool.com, sayli@mentorskool.com...</td>\n",
       "      <td>[nagesh.v@tredence.com, nikitha.s@tredence.com,]</td>\n",
       "      <td>C766EF53-3E92-4C74-9B84-E324EE774E95</td>\n",
       "      <td>False</td>\n",
       "      <td>2024-11-06 05:40:20.790</td>\n",
       "      <td>Tredence Inc</td>\n",
       "      <td>FDA35EDE-2DB2-4A15-B0FD-052C52705FEA</td>\n",
       "      <td>B1DDC250-C2B7-4E58-BCD1-103A77CF2D09</td>\n",
       "      <td>487060BA-4AEE-4485-A730-CAAC3E5B4BF7</td>\n",
       "      <td>2024-11-04 04:28:30</td>\n",
       "      <td>2024-11-04 05:35:32</td>\n",
       "      <td>sayar.chowdhury@tredence.com</td>\n",
       "      <td>Sayar Roy Chowdhury</td>\n",
       "    </tr>\n",
       "    <tr>\n",
       "      <th>3</th>\n",
       "      <td>F25FFAB6-15DF-4774-9C10-03CF263BF920</td>\n",
       "      <td>tredence-alchemy-adv-batch-3-oct-24</td>\n",
       "      <td>tredence-alchemy-adv-batch-3-oct-24</td>\n",
       "      <td>[ayushi@mentorskool.com, sayli@mentorskool.com...</td>\n",
       "      <td>[nagesh.v@tredence.com, nikitha.s@tredence.com,]</td>\n",
       "      <td>C766EF53-3E92-4C74-9B84-E324EE774E95</td>\n",
       "      <td>False</td>\n",
       "      <td>2024-11-06 05:40:20.790</td>\n",
       "      <td>Tredence Inc</td>\n",
       "      <td>FDA35EDE-2DB2-4A15-B0FD-052C52705FEA</td>\n",
       "      <td>E8352E4C-CA32-412A-9F03-11692B4D71D5</td>\n",
       "      <td>7D23F25D-1A67-469B-9D09-1E42D3C168B0</td>\n",
       "      <td>2024-10-29 04:32:21</td>\n",
       "      <td>2024-10-29 06:20:23</td>\n",
       "      <td>sayar.chowdhury@tredence.com</td>\n",
       "      <td>Sayar Roy Chowdhury</td>\n",
       "    </tr>\n",
       "    <tr>\n",
       "      <th>4</th>\n",
       "      <td>F25FFAB6-15DF-4774-9C10-03CF263BF920</td>\n",
       "      <td>tredence-alchemy-adv-batch-3-oct-24</td>\n",
       "      <td>tredence-alchemy-adv-batch-3-oct-24</td>\n",
       "      <td>[ayushi@mentorskool.com, sayli@mentorskool.com...</td>\n",
       "      <td>[nagesh.v@tredence.com, nikitha.s@tredence.com,]</td>\n",
       "      <td>C766EF53-3E92-4C74-9B84-E324EE774E95</td>\n",
       "      <td>False</td>\n",
       "      <td>2024-11-06 05:40:20.790</td>\n",
       "      <td>Tredence Inc</td>\n",
       "      <td>FDA35EDE-2DB2-4A15-B0FD-052C52705FEA</td>\n",
       "      <td>0C01748B-8CF0-423E-BABB-14EEE90AFE50</td>\n",
       "      <td>8727AF32-F000-437A-AB1C-DC41E87B1498</td>\n",
       "      <td>2024-10-18 07:31:26</td>\n",
       "      <td>2024-10-18 08:30:49</td>\n",
       "      <td>sayar.chowdhury@tredence.com</td>\n",
       "      <td>Sayar Roy Chowdhury</td>\n",
       "    </tr>\n",
       "  </tbody>\n",
       "</table>\n",
       "</div>"
      ],
      "text/plain": [
       "                             program_id                                 code  \\\n",
       "0  F25FFAB6-15DF-4774-9C10-03CF263BF920  tredence-alchemy-adv-batch-3-oct-24   \n",
       "1  F25FFAB6-15DF-4774-9C10-03CF263BF920  tredence-alchemy-adv-batch-3-oct-24   \n",
       "2  F25FFAB6-15DF-4774-9C10-03CF263BF920  tredence-alchemy-adv-batch-3-oct-24   \n",
       "3  F25FFAB6-15DF-4774-9C10-03CF263BF920  tredence-alchemy-adv-batch-3-oct-24   \n",
       "4  F25FFAB6-15DF-4774-9C10-03CF263BF920  tredence-alchemy-adv-batch-3-oct-24   \n",
       "\n",
       "                      code_description  \\\n",
       "0  tredence-alchemy-adv-batch-3-oct-24   \n",
       "1  tredence-alchemy-adv-batch-3-oct-24   \n",
       "2  tredence-alchemy-adv-batch-3-oct-24   \n",
       "3  tredence-alchemy-adv-batch-3-oct-24   \n",
       "4  tredence-alchemy-adv-batch-3-oct-24   \n",
       "\n",
       "                                        owner_emails  \\\n",
       "0  [ayushi@mentorskool.com, sayli@mentorskool.com...   \n",
       "1  [ayushi@mentorskool.com, sayli@mentorskool.com...   \n",
       "2  [ayushi@mentorskool.com, sayli@mentorskool.com...   \n",
       "3  [ayushi@mentorskool.com, sayli@mentorskool.com...   \n",
       "4  [ayushi@mentorskool.com, sayli@mentorskool.com...   \n",
       "\n",
       "                                        spoc_emails  \\\n",
       "0  [nagesh.v@tredence.com, nikitha.s@tredence.com,]   \n",
       "1  [nagesh.v@tredence.com, nikitha.s@tredence.com,]   \n",
       "2  [nagesh.v@tredence.com, nikitha.s@tredence.com,]   \n",
       "3  [nagesh.v@tredence.com, nikitha.s@tredence.com,]   \n",
       "4  [nagesh.v@tredence.com, nikitha.s@tredence.com,]   \n",
       "\n",
       "                              client_id  is_active       program_created_at  \\\n",
       "0  C766EF53-3E92-4C74-9B84-E324EE774E95      False  2024-11-06 05:40:20.790   \n",
       "1  C766EF53-3E92-4C74-9B84-E324EE774E95      False  2024-11-06 05:40:20.790   \n",
       "2  C766EF53-3E92-4C74-9B84-E324EE774E95      False  2024-11-06 05:40:20.790   \n",
       "3  C766EF53-3E92-4C74-9B84-E324EE774E95      False  2024-11-06 05:40:20.790   \n",
       "4  C766EF53-3E92-4C74-9B84-E324EE774E95      False  2024-11-06 05:40:20.790   \n",
       "\n",
       "         name_x                            learner_id  \\\n",
       "0  Tredence Inc  FDA35EDE-2DB2-4A15-B0FD-052C52705FEA   \n",
       "1  Tredence Inc  FDA35EDE-2DB2-4A15-B0FD-052C52705FEA   \n",
       "2  Tredence Inc  FDA35EDE-2DB2-4A15-B0FD-052C52705FEA   \n",
       "3  Tredence Inc  FDA35EDE-2DB2-4A15-B0FD-052C52705FEA   \n",
       "4  Tredence Inc  FDA35EDE-2DB2-4A15-B0FD-052C52705FEA   \n",
       "\n",
       "                                meeting                            meeting_id  \\\n",
       "0  EFB0A2D0-AB94-48D3-9656-00166E8E7CEA  073AF799-B36D-498A-8F18-E41594B0D152   \n",
       "1  5E521E0F-B2C7-40E0-8BED-0441B6774BAB  5CC9737C-C952-4DC6-BF44-A8449C16C783   \n",
       "2  B1DDC250-C2B7-4E58-BCD1-103A77CF2D09  487060BA-4AEE-4485-A730-CAAC3E5B4BF7   \n",
       "3  E8352E4C-CA32-412A-9F03-11692B4D71D5  7D23F25D-1A67-469B-9D09-1E42D3C168B0   \n",
       "4  0C01748B-8CF0-423E-BABB-14EEE90AFE50  8727AF32-F000-437A-AB1C-DC41E87B1498   \n",
       "\n",
       "     learner_joined_at      learner_left_at                         email  \\\n",
       "0  2024-12-05 02:32:55  2024-12-05 04:13:24  sayar.chowdhury@tredence.com   \n",
       "1  2024-10-28 09:32:22  2024-10-28 10:13:35  sayar.chowdhury@tredence.com   \n",
       "2  2024-11-04 04:28:30  2024-11-04 05:35:32  sayar.chowdhury@tredence.com   \n",
       "3  2024-10-29 04:32:21  2024-10-29 06:20:23  sayar.chowdhury@tredence.com   \n",
       "4  2024-10-18 07:31:26  2024-10-18 08:30:49  sayar.chowdhury@tredence.com   \n",
       "\n",
       "                name_y  \n",
       "0  Sayar Roy Chowdhury  \n",
       "1  Sayar Roy Chowdhury  \n",
       "2  Sayar Roy Chowdhury  \n",
       "3  Sayar Roy Chowdhury  \n",
       "4  Sayar Roy Chowdhury  "
      ]
     },
     "execution_count": 15,
     "metadata": {},
     "output_type": "execute_result"
    }
   ],
   "source": [
    "merged_df = pd.merge(\n",
    "    df3,\n",
    "    df,\n",
    "    how='left',\n",
    "    on='learner_id'\n",
    ")\n",
    "merged_df.head()"
   ]
  },
  {
   "cell_type": "code",
   "execution_count": 16,
   "metadata": {},
   "outputs": [],
   "source": [
    "import numpy as np\n",
    "\n",
    "# Convert joined/left to datetime if not already\n",
    "merged_df['learner_joined_at'] = pd.to_datetime(merged_df['learner_joined_at'])\n",
    "merged_df['learner_left_at']   = pd.to_datetime(merged_df['learner_left_at'])\n",
    "\n",
    "# Calculate attendance duration in minutes (example)\n",
    "merged_df['attendance_minutes'] = (\n",
    "    merged_df['learner_left_at'] - merged_df['learner_joined_at']\n",
    ").dt.total_seconds() / 60\n"
   ]
  },
  {
   "cell_type": "code",
   "execution_count": 17,
   "metadata": {},
   "outputs": [
    {
     "data": {
      "text/plain": [
       "Index(['program_id', 'code', 'code_description', 'owner_emails', 'spoc_emails',\n",
       "       'client_id', 'is_active', 'program_created_at', 'name_x', 'learner_id',\n",
       "       'meeting', 'meeting_id', 'learner_joined_at', 'learner_left_at',\n",
       "       'email', 'name_y', 'attendance_minutes'],\n",
       "      dtype='object')"
      ]
     },
     "execution_count": 17,
     "metadata": {},
     "output_type": "execute_result"
    }
   ],
   "source": [
    "merged_df.columns"
   ]
  },
  {
   "cell_type": "code",
   "execution_count": 18,
   "metadata": {},
   "outputs": [
    {
     "data": {
      "text/html": [
       "<div>\n",
       "<style scoped>\n",
       "    .dataframe tbody tr th:only-of-type {\n",
       "        vertical-align: middle;\n",
       "    }\n",
       "\n",
       "    .dataframe tbody tr th {\n",
       "        vertical-align: top;\n",
       "    }\n",
       "\n",
       "    .dataframe thead th {\n",
       "        text-align: right;\n",
       "    }\n",
       "</style>\n",
       "<table border=\"1\" class=\"dataframe\">\n",
       "  <thead>\n",
       "    <tr style=\"text-align: right;\">\n",
       "      <th></th>\n",
       "      <th>program_id</th>\n",
       "      <th>code</th>\n",
       "      <th>code_description</th>\n",
       "      <th>owner_emails</th>\n",
       "      <th>spoc_emails</th>\n",
       "      <th>client_id</th>\n",
       "      <th>is_active</th>\n",
       "      <th>program_created_at</th>\n",
       "      <th>name_x</th>\n",
       "      <th>learner_id</th>\n",
       "      <th>meeting</th>\n",
       "      <th>meeting_id</th>\n",
       "      <th>learner_joined_at</th>\n",
       "      <th>learner_left_at</th>\n",
       "      <th>email</th>\n",
       "      <th>name_y</th>\n",
       "      <th>attendance_minutes</th>\n",
       "    </tr>\n",
       "  </thead>\n",
       "  <tbody>\n",
       "    <tr>\n",
       "      <th>0</th>\n",
       "      <td>F25FFAB6-15DF-4774-9C10-03CF263BF920</td>\n",
       "      <td>tredence-alchemy-adv-batch-3-oct-24</td>\n",
       "      <td>tredence-alchemy-adv-batch-3-oct-24</td>\n",
       "      <td>[ayushi@mentorskool.com, sayli@mentorskool.com...</td>\n",
       "      <td>[nagesh.v@tredence.com, nikitha.s@tredence.com,]</td>\n",
       "      <td>C766EF53-3E92-4C74-9B84-E324EE774E95</td>\n",
       "      <td>False</td>\n",
       "      <td>2024-11-06 05:40:20.790</td>\n",
       "      <td>Tredence Inc</td>\n",
       "      <td>FDA35EDE-2DB2-4A15-B0FD-052C52705FEA</td>\n",
       "      <td>EFB0A2D0-AB94-48D3-9656-00166E8E7CEA</td>\n",
       "      <td>073AF799-B36D-498A-8F18-E41594B0D152</td>\n",
       "      <td>2024-12-05 02:32:55</td>\n",
       "      <td>2024-12-05 04:13:24</td>\n",
       "      <td>sayar.chowdhury@tredence.com</td>\n",
       "      <td>Sayar Roy Chowdhury</td>\n",
       "      <td>100.483333</td>\n",
       "    </tr>\n",
       "    <tr>\n",
       "      <th>1</th>\n",
       "      <td>F25FFAB6-15DF-4774-9C10-03CF263BF920</td>\n",
       "      <td>tredence-alchemy-adv-batch-3-oct-24</td>\n",
       "      <td>tredence-alchemy-adv-batch-3-oct-24</td>\n",
       "      <td>[ayushi@mentorskool.com, sayli@mentorskool.com...</td>\n",
       "      <td>[nagesh.v@tredence.com, nikitha.s@tredence.com,]</td>\n",
       "      <td>C766EF53-3E92-4C74-9B84-E324EE774E95</td>\n",
       "      <td>False</td>\n",
       "      <td>2024-11-06 05:40:20.790</td>\n",
       "      <td>Tredence Inc</td>\n",
       "      <td>FDA35EDE-2DB2-4A15-B0FD-052C52705FEA</td>\n",
       "      <td>5E521E0F-B2C7-40E0-8BED-0441B6774BAB</td>\n",
       "      <td>5CC9737C-C952-4DC6-BF44-A8449C16C783</td>\n",
       "      <td>2024-10-28 09:32:22</td>\n",
       "      <td>2024-10-28 10:13:35</td>\n",
       "      <td>sayar.chowdhury@tredence.com</td>\n",
       "      <td>Sayar Roy Chowdhury</td>\n",
       "      <td>41.216667</td>\n",
       "    </tr>\n",
       "    <tr>\n",
       "      <th>2</th>\n",
       "      <td>F25FFAB6-15DF-4774-9C10-03CF263BF920</td>\n",
       "      <td>tredence-alchemy-adv-batch-3-oct-24</td>\n",
       "      <td>tredence-alchemy-adv-batch-3-oct-24</td>\n",
       "      <td>[ayushi@mentorskool.com, sayli@mentorskool.com...</td>\n",
       "      <td>[nagesh.v@tredence.com, nikitha.s@tredence.com,]</td>\n",
       "      <td>C766EF53-3E92-4C74-9B84-E324EE774E95</td>\n",
       "      <td>False</td>\n",
       "      <td>2024-11-06 05:40:20.790</td>\n",
       "      <td>Tredence Inc</td>\n",
       "      <td>FDA35EDE-2DB2-4A15-B0FD-052C52705FEA</td>\n",
       "      <td>B1DDC250-C2B7-4E58-BCD1-103A77CF2D09</td>\n",
       "      <td>487060BA-4AEE-4485-A730-CAAC3E5B4BF7</td>\n",
       "      <td>2024-11-04 04:28:30</td>\n",
       "      <td>2024-11-04 05:35:32</td>\n",
       "      <td>sayar.chowdhury@tredence.com</td>\n",
       "      <td>Sayar Roy Chowdhury</td>\n",
       "      <td>67.033333</td>\n",
       "    </tr>\n",
       "    <tr>\n",
       "      <th>3</th>\n",
       "      <td>F25FFAB6-15DF-4774-9C10-03CF263BF920</td>\n",
       "      <td>tredence-alchemy-adv-batch-3-oct-24</td>\n",
       "      <td>tredence-alchemy-adv-batch-3-oct-24</td>\n",
       "      <td>[ayushi@mentorskool.com, sayli@mentorskool.com...</td>\n",
       "      <td>[nagesh.v@tredence.com, nikitha.s@tredence.com,]</td>\n",
       "      <td>C766EF53-3E92-4C74-9B84-E324EE774E95</td>\n",
       "      <td>False</td>\n",
       "      <td>2024-11-06 05:40:20.790</td>\n",
       "      <td>Tredence Inc</td>\n",
       "      <td>FDA35EDE-2DB2-4A15-B0FD-052C52705FEA</td>\n",
       "      <td>E8352E4C-CA32-412A-9F03-11692B4D71D5</td>\n",
       "      <td>7D23F25D-1A67-469B-9D09-1E42D3C168B0</td>\n",
       "      <td>2024-10-29 04:32:21</td>\n",
       "      <td>2024-10-29 06:20:23</td>\n",
       "      <td>sayar.chowdhury@tredence.com</td>\n",
       "      <td>Sayar Roy Chowdhury</td>\n",
       "      <td>108.033333</td>\n",
       "    </tr>\n",
       "    <tr>\n",
       "      <th>4</th>\n",
       "      <td>F25FFAB6-15DF-4774-9C10-03CF263BF920</td>\n",
       "      <td>tredence-alchemy-adv-batch-3-oct-24</td>\n",
       "      <td>tredence-alchemy-adv-batch-3-oct-24</td>\n",
       "      <td>[ayushi@mentorskool.com, sayli@mentorskool.com...</td>\n",
       "      <td>[nagesh.v@tredence.com, nikitha.s@tredence.com,]</td>\n",
       "      <td>C766EF53-3E92-4C74-9B84-E324EE774E95</td>\n",
       "      <td>False</td>\n",
       "      <td>2024-11-06 05:40:20.790</td>\n",
       "      <td>Tredence Inc</td>\n",
       "      <td>FDA35EDE-2DB2-4A15-B0FD-052C52705FEA</td>\n",
       "      <td>0C01748B-8CF0-423E-BABB-14EEE90AFE50</td>\n",
       "      <td>8727AF32-F000-437A-AB1C-DC41E87B1498</td>\n",
       "      <td>2024-10-18 07:31:26</td>\n",
       "      <td>2024-10-18 08:30:49</td>\n",
       "      <td>sayar.chowdhury@tredence.com</td>\n",
       "      <td>Sayar Roy Chowdhury</td>\n",
       "      <td>59.383333</td>\n",
       "    </tr>\n",
       "  </tbody>\n",
       "</table>\n",
       "</div>"
      ],
      "text/plain": [
       "                             program_id                                 code  \\\n",
       "0  F25FFAB6-15DF-4774-9C10-03CF263BF920  tredence-alchemy-adv-batch-3-oct-24   \n",
       "1  F25FFAB6-15DF-4774-9C10-03CF263BF920  tredence-alchemy-adv-batch-3-oct-24   \n",
       "2  F25FFAB6-15DF-4774-9C10-03CF263BF920  tredence-alchemy-adv-batch-3-oct-24   \n",
       "3  F25FFAB6-15DF-4774-9C10-03CF263BF920  tredence-alchemy-adv-batch-3-oct-24   \n",
       "4  F25FFAB6-15DF-4774-9C10-03CF263BF920  tredence-alchemy-adv-batch-3-oct-24   \n",
       "\n",
       "                      code_description  \\\n",
       "0  tredence-alchemy-adv-batch-3-oct-24   \n",
       "1  tredence-alchemy-adv-batch-3-oct-24   \n",
       "2  tredence-alchemy-adv-batch-3-oct-24   \n",
       "3  tredence-alchemy-adv-batch-3-oct-24   \n",
       "4  tredence-alchemy-adv-batch-3-oct-24   \n",
       "\n",
       "                                        owner_emails  \\\n",
       "0  [ayushi@mentorskool.com, sayli@mentorskool.com...   \n",
       "1  [ayushi@mentorskool.com, sayli@mentorskool.com...   \n",
       "2  [ayushi@mentorskool.com, sayli@mentorskool.com...   \n",
       "3  [ayushi@mentorskool.com, sayli@mentorskool.com...   \n",
       "4  [ayushi@mentorskool.com, sayli@mentorskool.com...   \n",
       "\n",
       "                                        spoc_emails  \\\n",
       "0  [nagesh.v@tredence.com, nikitha.s@tredence.com,]   \n",
       "1  [nagesh.v@tredence.com, nikitha.s@tredence.com,]   \n",
       "2  [nagesh.v@tredence.com, nikitha.s@tredence.com,]   \n",
       "3  [nagesh.v@tredence.com, nikitha.s@tredence.com,]   \n",
       "4  [nagesh.v@tredence.com, nikitha.s@tredence.com,]   \n",
       "\n",
       "                              client_id  is_active       program_created_at  \\\n",
       "0  C766EF53-3E92-4C74-9B84-E324EE774E95      False  2024-11-06 05:40:20.790   \n",
       "1  C766EF53-3E92-4C74-9B84-E324EE774E95      False  2024-11-06 05:40:20.790   \n",
       "2  C766EF53-3E92-4C74-9B84-E324EE774E95      False  2024-11-06 05:40:20.790   \n",
       "3  C766EF53-3E92-4C74-9B84-E324EE774E95      False  2024-11-06 05:40:20.790   \n",
       "4  C766EF53-3E92-4C74-9B84-E324EE774E95      False  2024-11-06 05:40:20.790   \n",
       "\n",
       "         name_x                            learner_id  \\\n",
       "0  Tredence Inc  FDA35EDE-2DB2-4A15-B0FD-052C52705FEA   \n",
       "1  Tredence Inc  FDA35EDE-2DB2-4A15-B0FD-052C52705FEA   \n",
       "2  Tredence Inc  FDA35EDE-2DB2-4A15-B0FD-052C52705FEA   \n",
       "3  Tredence Inc  FDA35EDE-2DB2-4A15-B0FD-052C52705FEA   \n",
       "4  Tredence Inc  FDA35EDE-2DB2-4A15-B0FD-052C52705FEA   \n",
       "\n",
       "                                meeting                            meeting_id  \\\n",
       "0  EFB0A2D0-AB94-48D3-9656-00166E8E7CEA  073AF799-B36D-498A-8F18-E41594B0D152   \n",
       "1  5E521E0F-B2C7-40E0-8BED-0441B6774BAB  5CC9737C-C952-4DC6-BF44-A8449C16C783   \n",
       "2  B1DDC250-C2B7-4E58-BCD1-103A77CF2D09  487060BA-4AEE-4485-A730-CAAC3E5B4BF7   \n",
       "3  E8352E4C-CA32-412A-9F03-11692B4D71D5  7D23F25D-1A67-469B-9D09-1E42D3C168B0   \n",
       "4  0C01748B-8CF0-423E-BABB-14EEE90AFE50  8727AF32-F000-437A-AB1C-DC41E87B1498   \n",
       "\n",
       "    learner_joined_at     learner_left_at                         email  \\\n",
       "0 2024-12-05 02:32:55 2024-12-05 04:13:24  sayar.chowdhury@tredence.com   \n",
       "1 2024-10-28 09:32:22 2024-10-28 10:13:35  sayar.chowdhury@tredence.com   \n",
       "2 2024-11-04 04:28:30 2024-11-04 05:35:32  sayar.chowdhury@tredence.com   \n",
       "3 2024-10-29 04:32:21 2024-10-29 06:20:23  sayar.chowdhury@tredence.com   \n",
       "4 2024-10-18 07:31:26 2024-10-18 08:30:49  sayar.chowdhury@tredence.com   \n",
       "\n",
       "                name_y  attendance_minutes  \n",
       "0  Sayar Roy Chowdhury          100.483333  \n",
       "1  Sayar Roy Chowdhury           41.216667  \n",
       "2  Sayar Roy Chowdhury           67.033333  \n",
       "3  Sayar Roy Chowdhury          108.033333  \n",
       "4  Sayar Roy Chowdhury           59.383333  "
      ]
     },
     "execution_count": 18,
     "metadata": {},
     "output_type": "execute_result"
    }
   ],
   "source": [
    "merged_df.head()"
   ]
  },
  {
   "cell_type": "code",
   "execution_count": 19,
   "metadata": {},
   "outputs": [],
   "source": [
    "merged_df = merged_df.rename(columns= {\"name_x\": \"client_name\", \"name_y\":\"learner_name\"})"
   ]
  },
  {
   "cell_type": "code",
   "execution_count": 20,
   "metadata": {},
   "outputs": [],
   "source": [
    "attendance.to_csv(r\"G:\\My Drive\\ML\\2025\\Project\\Database Agent\\preparing_data\\learner_attendence.csv\")"
   ]
  },
  {
   "cell_type": "markdown",
   "metadata": {},
   "source": [
    "### Testing \n",
    "\n",
    "* Client - Fractal Analytics\n",
    "* Program - fractal-imagineers-ds-batch-1-nov-24\n",
    "* Learner - Samadrito Mukherjee"
   ]
  },
  {
   "cell_type": "code",
   "execution_count": 21,
   "metadata": {},
   "outputs": [
    {
     "data": {
      "text/plain": [
       "array(['Tiger Analytics', 'Fractal Analytics', 'MathCo', 'Globalmart',\n",
       "       'Enqurious Academy', 'Tredence Inc', 'Mentorskool'], dtype=object)"
      ]
     },
     "execution_count": 21,
     "metadata": {},
     "output_type": "execute_result"
    }
   ],
   "source": [
    "clients.name.unique()"
   ]
  },
  {
   "cell_type": "code",
   "execution_count": 22,
   "metadata": {},
   "outputs": [],
   "source": [
    "fractal_df = merged_df[merged_df[\"client_name\"] =='Fractal Analytics']"
   ]
  },
  {
   "cell_type": "code",
   "execution_count": 23,
   "metadata": {},
   "outputs": [
    {
     "data": {
      "text/plain": [
       "array(['data-science-hackathon-march-25',\n",
       "       'fractal-genai-hackathon-pre-assessment-oct-24',\n",
       "       'fractal-imagineers-ds-batch-3-nov-24', 'ml-ops-hackathon-jan-25',\n",
       "       'sql-problem-solving-hackathon-25', 'fractal-bug-bounty-dec-24',\n",
       "       'fractal-genai-hackathon-assessment-nov 24',\n",
       "       'fractal-imagineers-ds-batch-1-nov-24',\n",
       "       'fractal-imagineers-ds-batch-2-nov-24'], dtype=object)"
      ]
     },
     "execution_count": 23,
     "metadata": {},
     "output_type": "execute_result"
    }
   ],
   "source": [
    "fractal_df.code.unique()"
   ]
  },
  {
   "cell_type": "code",
   "execution_count": 24,
   "metadata": {},
   "outputs": [],
   "source": [
    "p1 = merged_df[merged_df[\"code\"] =='fractal-imagineers-ds-batch-1-nov-24']"
   ]
  },
  {
   "cell_type": "code",
   "execution_count": 25,
   "metadata": {},
   "outputs": [
    {
     "data": {
      "text/plain": [
       "(278, 17)"
      ]
     },
     "execution_count": 25,
     "metadata": {},
     "output_type": "execute_result"
    }
   ],
   "source": [
    "p1.shape"
   ]
  },
  {
   "cell_type": "code",
   "execution_count": 26,
   "metadata": {},
   "outputs": [
    {
     "data": {
      "text/plain": [
       "40"
      ]
     },
     "execution_count": 26,
     "metadata": {},
     "output_type": "execute_result"
    }
   ],
   "source": [
    "p1.learner_id.nunique()"
   ]
  },
  {
   "cell_type": "code",
   "execution_count": 27,
   "metadata": {},
   "outputs": [
    {
     "data": {
      "text/plain": [
       "259"
      ]
     },
     "execution_count": 27,
     "metadata": {},
     "output_type": "execute_result"
    }
   ],
   "source": [
    "p1.meeting.nunique()"
   ]
  },
  {
   "cell_type": "code",
   "execution_count": 28,
   "metadata": {},
   "outputs": [
    {
     "data": {
      "text/plain": [
       "5"
      ]
     },
     "execution_count": 28,
     "metadata": {},
     "output_type": "execute_result"
    }
   ],
   "source": [
    "p1.meeting_id.nunique()"
   ]
  },
  {
   "cell_type": "code",
   "execution_count": 29,
   "metadata": {},
   "outputs": [
    {
     "data": {
      "text/plain": [
       "Index(['program_id', 'code', 'code_description', 'owner_emails', 'spoc_emails',\n",
       "       'client_id', 'is_active', 'program_created_at', 'client_name',\n",
       "       'learner_id', 'meeting', 'meeting_id', 'learner_joined_at',\n",
       "       'learner_left_at', 'email', 'learner_name', 'attendance_minutes'],\n",
       "      dtype='object')"
      ]
     },
     "execution_count": 29,
     "metadata": {},
     "output_type": "execute_result"
    }
   ],
   "source": [
    "p1.columns"
   ]
  },
  {
   "cell_type": "code",
   "execution_count": 30,
   "metadata": {},
   "outputs": [],
   "source": [
    "p1_= merged_df[merged_df[\"learner_name\"] =='Samadrito Mukherjee']"
   ]
  },
  {
   "cell_type": "code",
   "execution_count": 31,
   "metadata": {},
   "outputs": [
    {
     "data": {
      "text/plain": [
       "(15, 17)"
      ]
     },
     "execution_count": 31,
     "metadata": {},
     "output_type": "execute_result"
    }
   ],
   "source": [
    "p1_.shape"
   ]
  },
  {
   "cell_type": "code",
   "execution_count": 32,
   "metadata": {},
   "outputs": [
    {
     "data": {
      "text/plain": [
       "15"
      ]
     },
     "execution_count": 32,
     "metadata": {},
     "output_type": "execute_result"
    }
   ],
   "source": [
    "p1_.meeting.nunique()"
   ]
  },
  {
   "cell_type": "code",
   "execution_count": null,
   "metadata": {},
   "outputs": [],
   "source": []
  }
 ],
 "metadata": {
  "kernelspec": {
   "display_name": "aienv",
   "language": "python",
   "name": "python3"
  },
  "language_info": {
   "codemirror_mode": {
    "name": "ipython",
    "version": 3
   },
   "file_extension": ".py",
   "mimetype": "text/x-python",
   "name": "python",
   "nbconvert_exporter": "python",
   "pygments_lexer": "ipython3",
   "version": "3.9.21"
  }
 },
 "nbformat": 4,
 "nbformat_minor": 2
}
