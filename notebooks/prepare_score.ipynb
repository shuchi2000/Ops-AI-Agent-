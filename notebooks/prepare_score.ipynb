{
 "cells": [
  {
   "cell_type": "code",
   "execution_count": 6,
   "metadata": {},
   "outputs": [],
   "source": [
    "import pandas as pd \n",
    "\n",
    "clients = pd.read_csv(r\"G:\\My Drive\\ML\\2025\\Project\\Database Agent\\preparing_data\\client_program_learner.csv\")\n",
    "content = pd.read_csv(r\"G:\\My Drive\\ML\\2025\\Project\\Database Agent\\data\\enquriousV2_contents.csv\")\n",
    "deployment = pd.read_csv(r\"G:\\My Drive\\ML\\2025\\Project\\Database Agent\\data\\enquriousV2_deployments.csv\")\n",
    "evaluation = pd.read_csv(r\"G:\\My Drive\\ML\\2025\\Project\\Database Agent\\data\\enquriousV2_evaluations.csv\")\n",
    "score = pd.read_csv(r\"G:\\My Drive\\ML\\2025\\Project\\Database Agent\\data\\enquriousV2_skills_scores.csv\")\n"
   ]
  },
  {
   "cell_type": "markdown",
   "metadata": {},
   "source": [
    "## Let's prepare score report"
   ]
  },
  {
   "cell_type": "code",
   "execution_count": 3,
   "metadata": {},
   "outputs": [
    {
     "data": {
      "text/html": [
       "<div>\n",
       "<style scoped>\n",
       "    .dataframe tbody tr th:only-of-type {\n",
       "        vertical-align: middle;\n",
       "    }\n",
       "\n",
       "    .dataframe tbody tr th {\n",
       "        vertical-align: top;\n",
       "    }\n",
       "\n",
       "    .dataframe thead th {\n",
       "        text-align: right;\n",
       "    }\n",
       "</style>\n",
       "<table border=\"1\" class=\"dataframe\">\n",
       "  <thead>\n",
       "    <tr style=\"text-align: right;\">\n",
       "      <th></th>\n",
       "      <th>Unnamed: 0</th>\n",
       "      <th>Client_name</th>\n",
       "      <th>program_id</th>\n",
       "      <th>code</th>\n",
       "      <th>code_description</th>\n",
       "      <th>owner_emails</th>\n",
       "      <th>spoc_emails</th>\n",
       "      <th>client_id</th>\n",
       "      <th>is_active</th>\n",
       "      <th>Program_created_at</th>\n",
       "      <th>learner_id</th>\n",
       "      <th>email</th>\n",
       "      <th>learner_name</th>\n",
       "    </tr>\n",
       "  </thead>\n",
       "  <tbody>\n",
       "    <tr>\n",
       "      <th>0</th>\n",
       "      <td>0</td>\n",
       "      <td>Tredence Inc</td>\n",
       "      <td>F25FFAB6-15DF-4774-9C10-03CF263BF920</td>\n",
       "      <td>tredence-alchemy-adv-batch-3-oct-24</td>\n",
       "      <td>tredence-alchemy-adv-batch-3-oct-24</td>\n",
       "      <td>[ayushi@mentorskool.com, sayli@mentorskool.com...</td>\n",
       "      <td>[nagesh.v@tredence.com, nikitha.s@tredence.com,]</td>\n",
       "      <td>C766EF53-3E92-4C74-9B84-E324EE774E95</td>\n",
       "      <td>False</td>\n",
       "      <td>2024-11-06 05:40:20.790</td>\n",
       "      <td>FDA35EDE-2DB2-4A15-B0FD-052C52705FEA</td>\n",
       "      <td>sayar.chowdhury@tredence.com</td>\n",
       "      <td>Sayar Roy Chowdhury</td>\n",
       "    </tr>\n",
       "    <tr>\n",
       "      <th>1</th>\n",
       "      <td>1</td>\n",
       "      <td>Tredence Inc</td>\n",
       "      <td>F25FFAB6-15DF-4774-9C10-03CF263BF920</td>\n",
       "      <td>tredence-alchemy-adv-batch-3-oct-24</td>\n",
       "      <td>tredence-alchemy-adv-batch-3-oct-24</td>\n",
       "      <td>[ayushi@mentorskool.com, sayli@mentorskool.com...</td>\n",
       "      <td>[nagesh.v@tredence.com, nikitha.s@tredence.com,]</td>\n",
       "      <td>C766EF53-3E92-4C74-9B84-E324EE774E95</td>\n",
       "      <td>False</td>\n",
       "      <td>2024-11-06 05:40:20.790</td>\n",
       "      <td>C63E948F-E30E-4E98-BBB3-0958A54327D5</td>\n",
       "      <td>amrita.haldar@tredence.com</td>\n",
       "      <td>Amrita  Haldar</td>\n",
       "    </tr>\n",
       "    <tr>\n",
       "      <th>2</th>\n",
       "      <td>2</td>\n",
       "      <td>Tredence Inc</td>\n",
       "      <td>F25FFAB6-15DF-4774-9C10-03CF263BF920</td>\n",
       "      <td>tredence-alchemy-adv-batch-3-oct-24</td>\n",
       "      <td>tredence-alchemy-adv-batch-3-oct-24</td>\n",
       "      <td>[ayushi@mentorskool.com, sayli@mentorskool.com...</td>\n",
       "      <td>[nagesh.v@tredence.com, nikitha.s@tredence.com,]</td>\n",
       "      <td>C766EF53-3E92-4C74-9B84-E324EE774E95</td>\n",
       "      <td>False</td>\n",
       "      <td>2024-11-06 05:40:20.790</td>\n",
       "      <td>B6A8695E-CDF6-4E32-B160-1E12919588A7</td>\n",
       "      <td>vaishnavi.p@tredence.com</td>\n",
       "      <td>Vaishnavi  P</td>\n",
       "    </tr>\n",
       "    <tr>\n",
       "      <th>3</th>\n",
       "      <td>3</td>\n",
       "      <td>Tredence Inc</td>\n",
       "      <td>F25FFAB6-15DF-4774-9C10-03CF263BF920</td>\n",
       "      <td>tredence-alchemy-adv-batch-3-oct-24</td>\n",
       "      <td>tredence-alchemy-adv-batch-3-oct-24</td>\n",
       "      <td>[ayushi@mentorskool.com, sayli@mentorskool.com...</td>\n",
       "      <td>[nagesh.v@tredence.com, nikitha.s@tredence.com,]</td>\n",
       "      <td>C766EF53-3E92-4C74-9B84-E324EE774E95</td>\n",
       "      <td>False</td>\n",
       "      <td>2024-11-06 05:40:20.790</td>\n",
       "      <td>65CE69DF-6422-4A00-B210-3984676181DA</td>\n",
       "      <td>shatakshi.dubey@tredence.com</td>\n",
       "      <td>Shatakshi Dubey</td>\n",
       "    </tr>\n",
       "    <tr>\n",
       "      <th>4</th>\n",
       "      <td>4</td>\n",
       "      <td>Tredence Inc</td>\n",
       "      <td>F25FFAB6-15DF-4774-9C10-03CF263BF920</td>\n",
       "      <td>tredence-alchemy-adv-batch-3-oct-24</td>\n",
       "      <td>tredence-alchemy-adv-batch-3-oct-24</td>\n",
       "      <td>[ayushi@mentorskool.com, sayli@mentorskool.com...</td>\n",
       "      <td>[nagesh.v@tredence.com, nikitha.s@tredence.com,]</td>\n",
       "      <td>C766EF53-3E92-4C74-9B84-E324EE774E95</td>\n",
       "      <td>False</td>\n",
       "      <td>2024-11-06 05:40:20.790</td>\n",
       "      <td>D8C39EB3-CFF5-4B22-93E7-40DFAACE6048</td>\n",
       "      <td>anishkha.c@tredence.com</td>\n",
       "      <td>Anishkha Chandrasekar</td>\n",
       "    </tr>\n",
       "  </tbody>\n",
       "</table>\n",
       "</div>"
      ],
      "text/plain": [
       "   Unnamed: 0   Client_name                            program_id  \\\n",
       "0           0  Tredence Inc  F25FFAB6-15DF-4774-9C10-03CF263BF920   \n",
       "1           1  Tredence Inc  F25FFAB6-15DF-4774-9C10-03CF263BF920   \n",
       "2           2  Tredence Inc  F25FFAB6-15DF-4774-9C10-03CF263BF920   \n",
       "3           3  Tredence Inc  F25FFAB6-15DF-4774-9C10-03CF263BF920   \n",
       "4           4  Tredence Inc  F25FFAB6-15DF-4774-9C10-03CF263BF920   \n",
       "\n",
       "                                  code                     code_description  \\\n",
       "0  tredence-alchemy-adv-batch-3-oct-24  tredence-alchemy-adv-batch-3-oct-24   \n",
       "1  tredence-alchemy-adv-batch-3-oct-24  tredence-alchemy-adv-batch-3-oct-24   \n",
       "2  tredence-alchemy-adv-batch-3-oct-24  tredence-alchemy-adv-batch-3-oct-24   \n",
       "3  tredence-alchemy-adv-batch-3-oct-24  tredence-alchemy-adv-batch-3-oct-24   \n",
       "4  tredence-alchemy-adv-batch-3-oct-24  tredence-alchemy-adv-batch-3-oct-24   \n",
       "\n",
       "                                        owner_emails  \\\n",
       "0  [ayushi@mentorskool.com, sayli@mentorskool.com...   \n",
       "1  [ayushi@mentorskool.com, sayli@mentorskool.com...   \n",
       "2  [ayushi@mentorskool.com, sayli@mentorskool.com...   \n",
       "3  [ayushi@mentorskool.com, sayli@mentorskool.com...   \n",
       "4  [ayushi@mentorskool.com, sayli@mentorskool.com...   \n",
       "\n",
       "                                        spoc_emails  \\\n",
       "0  [nagesh.v@tredence.com, nikitha.s@tredence.com,]   \n",
       "1  [nagesh.v@tredence.com, nikitha.s@tredence.com,]   \n",
       "2  [nagesh.v@tredence.com, nikitha.s@tredence.com,]   \n",
       "3  [nagesh.v@tredence.com, nikitha.s@tredence.com,]   \n",
       "4  [nagesh.v@tredence.com, nikitha.s@tredence.com,]   \n",
       "\n",
       "                              client_id  is_active       Program_created_at  \\\n",
       "0  C766EF53-3E92-4C74-9B84-E324EE774E95      False  2024-11-06 05:40:20.790   \n",
       "1  C766EF53-3E92-4C74-9B84-E324EE774E95      False  2024-11-06 05:40:20.790   \n",
       "2  C766EF53-3E92-4C74-9B84-E324EE774E95      False  2024-11-06 05:40:20.790   \n",
       "3  C766EF53-3E92-4C74-9B84-E324EE774E95      False  2024-11-06 05:40:20.790   \n",
       "4  C766EF53-3E92-4C74-9B84-E324EE774E95      False  2024-11-06 05:40:20.790   \n",
       "\n",
       "                             learner_id                         email  \\\n",
       "0  FDA35EDE-2DB2-4A15-B0FD-052C52705FEA  sayar.chowdhury@tredence.com   \n",
       "1  C63E948F-E30E-4E98-BBB3-0958A54327D5    amrita.haldar@tredence.com   \n",
       "2  B6A8695E-CDF6-4E32-B160-1E12919588A7      vaishnavi.p@tredence.com   \n",
       "3  65CE69DF-6422-4A00-B210-3984676181DA  shatakshi.dubey@tredence.com   \n",
       "4  D8C39EB3-CFF5-4B22-93E7-40DFAACE6048       anishkha.c@tredence.com   \n",
       "\n",
       "            learner_name  \n",
       "0    Sayar Roy Chowdhury  \n",
       "1         Amrita  Haldar  \n",
       "2           Vaishnavi  P  \n",
       "3        Shatakshi Dubey  \n",
       "4  Anishkha Chandrasekar  "
      ]
     },
     "execution_count": 3,
     "metadata": {},
     "output_type": "execute_result"
    }
   ],
   "source": [
    "clients.head()"
   ]
  },
  {
   "cell_type": "code",
   "execution_count": 4,
   "metadata": {},
   "outputs": [
    {
     "data": {
      "text/html": [
       "<div>\n",
       "<style scoped>\n",
       "    .dataframe tbody tr th:only-of-type {\n",
       "        vertical-align: middle;\n",
       "    }\n",
       "\n",
       "    .dataframe tbody tr th {\n",
       "        vertical-align: top;\n",
       "    }\n",
       "\n",
       "    .dataframe thead th {\n",
       "        text-align: right;\n",
       "    }\n",
       "</style>\n",
       "<table border=\"1\" class=\"dataframe\">\n",
       "  <thead>\n",
       "    <tr style=\"text-align: right;\">\n",
       "      <th></th>\n",
       "      <th>id</th>\n",
       "      <th>name</th>\n",
       "      <th>type</th>\n",
       "      <th>level</th>\n",
       "      <th>duration_of_completion</th>\n",
       "    </tr>\n",
       "  </thead>\n",
       "  <tbody>\n",
       "    <tr>\n",
       "      <th>0</th>\n",
       "      <td>108F8BF1-3938-423D-9F99-0093C811C860</td>\n",
       "      <td>Linear Regression for Marketing Budget Optimiz...</td>\n",
       "      <td>SCENARIO</td>\n",
       "      <td>INTERMEDIATE</td>\n",
       "      <td>60</td>\n",
       "    </tr>\n",
       "    <tr>\n",
       "      <th>1</th>\n",
       "      <td>D04F3048-709C-4731-ACE3-0113B5A6F878</td>\n",
       "      <td>Beginner Data Science Foundations Assessment |...</td>\n",
       "      <td>SCENARIO</td>\n",
       "      <td>BEGINNER</td>\n",
       "      <td>30</td>\n",
       "    </tr>\n",
       "    <tr>\n",
       "      <th>2</th>\n",
       "      <td>1CCDBA20-E830-4D0E-96EE-01307E6A7183</td>\n",
       "      <td>Snowpro Core Full Length Mock Test 3</td>\n",
       "      <td>SCENARIO</td>\n",
       "      <td>BEGINNER</td>\n",
       "      <td>90</td>\n",
       "    </tr>\n",
       "    <tr>\n",
       "      <th>3</th>\n",
       "      <td>D1FB65C0-8F5B-482C-AD40-02C64BF5669C</td>\n",
       "      <td>Databricks Full Length Mock Test-2</td>\n",
       "      <td>SCENARIO</td>\n",
       "      <td>INTERMEDIATE</td>\n",
       "      <td>90</td>\n",
       "    </tr>\n",
       "    <tr>\n",
       "      <th>4</th>\n",
       "      <td>03F9AE90-5AA7-4098-B4D2-038362B22209</td>\n",
       "      <td>Identifying High-Performing States in Sales at...</td>\n",
       "      <td>SCENARIO</td>\n",
       "      <td>ADVANCED</td>\n",
       "      <td>30</td>\n",
       "    </tr>\n",
       "  </tbody>\n",
       "</table>\n",
       "</div>"
      ],
      "text/plain": [
       "                                     id  \\\n",
       "0  108F8BF1-3938-423D-9F99-0093C811C860   \n",
       "1  D04F3048-709C-4731-ACE3-0113B5A6F878   \n",
       "2  1CCDBA20-E830-4D0E-96EE-01307E6A7183   \n",
       "3  D1FB65C0-8F5B-482C-AD40-02C64BF5669C   \n",
       "4  03F9AE90-5AA7-4098-B4D2-038362B22209   \n",
       "\n",
       "                                                name      type         level  \\\n",
       "0  Linear Regression for Marketing Budget Optimiz...  SCENARIO  INTERMEDIATE   \n",
       "1  Beginner Data Science Foundations Assessment |...  SCENARIO      BEGINNER   \n",
       "2               Snowpro Core Full Length Mock Test 3  SCENARIO      BEGINNER   \n",
       "3                 Databricks Full Length Mock Test-2  SCENARIO  INTERMEDIATE   \n",
       "4  Identifying High-Performing States in Sales at...  SCENARIO      ADVANCED   \n",
       "\n",
       "   duration_of_completion  \n",
       "0                      60  \n",
       "1                      30  \n",
       "2                      90  \n",
       "3                      90  \n",
       "4                      30  "
      ]
     },
     "execution_count": 4,
     "metadata": {},
     "output_type": "execute_result"
    }
   ],
   "source": [
    "content.head()"
   ]
  },
  {
   "cell_type": "code",
   "execution_count": 5,
   "metadata": {},
   "outputs": [
    {
     "data": {
      "text/html": [
       "<div>\n",
       "<style scoped>\n",
       "    .dataframe tbody tr th:only-of-type {\n",
       "        vertical-align: middle;\n",
       "    }\n",
       "\n",
       "    .dataframe tbody tr th {\n",
       "        vertical-align: top;\n",
       "    }\n",
       "\n",
       "    .dataframe thead th {\n",
       "        text-align: right;\n",
       "    }\n",
       "</style>\n",
       "<table border=\"1\" class=\"dataframe\">\n",
       "  <thead>\n",
       "    <tr style=\"text-align: right;\">\n",
       "      <th></th>\n",
       "      <th>id</th>\n",
       "      <th>deployment_id</th>\n",
       "      <th>learner_id</th>\n",
       "      <th>content_id</th>\n",
       "      <th>mode</th>\n",
       "      <th>status</th>\n",
       "      <th>completed_at</th>\n",
       "      <th>evaluator_email</th>\n",
       "      <th>submitted_at</th>\n",
       "    </tr>\n",
       "  </thead>\n",
       "  <tbody>\n",
       "    <tr>\n",
       "      <th>0</th>\n",
       "      <td>938ED599-732E-4D64-8BED-0002C0CF5A7F</td>\n",
       "      <td>F9191D39-824C-456B-8838-FF8D087718B7</td>\n",
       "      <td>5450C6C7-E473-4F06-9EF9-1B2A94642013</td>\n",
       "      <td>26425FEB-FD0E-4712-A508-ABB15D3137DF</td>\n",
       "      <td>Auto</td>\n",
       "      <td>COMPLETED</td>\n",
       "      <td>2025-01-13 10:48:48</td>\n",
       "      <td>mandar@mentorskool.com</td>\n",
       "      <td>2025-01-13 10:48:50</td>\n",
       "    </tr>\n",
       "    <tr>\n",
       "      <th>1</th>\n",
       "      <td>BAC0CCC2-EA94-4FA8-B74B-003919ADAB61</td>\n",
       "      <td>D6669278-9DA2-4176-9F5B-B6C2AAE13F61</td>\n",
       "      <td>98CB963C-39CE-4F27-9CE8-8FD1D59144FF</td>\n",
       "      <td>8ADEA0E5-0B3B-4DCF-B56C-16D51CD718F1</td>\n",
       "      <td>Auto</td>\n",
       "      <td>COMPLETED</td>\n",
       "      <td>2025-02-28 11:06:16</td>\n",
       "      <td>shuchismita@mentorskool.com</td>\n",
       "      <td>NaN</td>\n",
       "    </tr>\n",
       "    <tr>\n",
       "      <th>2</th>\n",
       "      <td>7B49037F-E337-423C-8496-006D76BFB82F</td>\n",
       "      <td>25A02A95-441B-48D5-99C7-50FD7664B817</td>\n",
       "      <td>03A4E713-0768-4B41-97BF-EDCCA967D686</td>\n",
       "      <td>351619E4-5D4E-4FFB-A186-B2F91FA22DF7</td>\n",
       "      <td>Auto</td>\n",
       "      <td>COMPLETED</td>\n",
       "      <td>2025-01-13 04:30:38</td>\n",
       "      <td>burhanuddin@mentorskool.com</td>\n",
       "      <td>2025-01-13 04:30:37</td>\n",
       "    </tr>\n",
       "    <tr>\n",
       "      <th>3</th>\n",
       "      <td>7F5EAB74-F392-42CA-9E9D-0087AF6DABC0</td>\n",
       "      <td>5EA6A393-E8DD-4BF1-9E26-5D46ADFCEC6C</td>\n",
       "      <td>01ADAD0B-8C42-44F7-944D-C87B294FE2A8</td>\n",
       "      <td>0BC10356-19FD-43BE-A478-168CC58A7F52</td>\n",
       "      <td>Auto</td>\n",
       "      <td>COMPLETED</td>\n",
       "      <td>2025-01-27 06:41:20</td>\n",
       "      <td>divyanshi@mentorskool.com</td>\n",
       "      <td>NaN</td>\n",
       "    </tr>\n",
       "    <tr>\n",
       "      <th>4</th>\n",
       "      <td>527BCBBF-1B4A-492B-BDF2-0087BB47D61A</td>\n",
       "      <td>8B9075E3-D0A6-453A-9FA0-F9DC8C561B68</td>\n",
       "      <td>EFD4FCF3-8C8F-4899-84AC-61B4B6B1D39A</td>\n",
       "      <td>8DBC9932-E69E-4ECE-950F-94FF487EC011</td>\n",
       "      <td>Manual</td>\n",
       "      <td>COMPLETED</td>\n",
       "      <td>2025-03-10 15:32:45</td>\n",
       "      <td>amit@mentorskool.com</td>\n",
       "      <td>2025-03-08 07:45:22</td>\n",
       "    </tr>\n",
       "  </tbody>\n",
       "</table>\n",
       "</div>"
      ],
      "text/plain": [
       "                                     id                         deployment_id  \\\n",
       "0  938ED599-732E-4D64-8BED-0002C0CF5A7F  F9191D39-824C-456B-8838-FF8D087718B7   \n",
       "1  BAC0CCC2-EA94-4FA8-B74B-003919ADAB61  D6669278-9DA2-4176-9F5B-B6C2AAE13F61   \n",
       "2  7B49037F-E337-423C-8496-006D76BFB82F  25A02A95-441B-48D5-99C7-50FD7664B817   \n",
       "3  7F5EAB74-F392-42CA-9E9D-0087AF6DABC0  5EA6A393-E8DD-4BF1-9E26-5D46ADFCEC6C   \n",
       "4  527BCBBF-1B4A-492B-BDF2-0087BB47D61A  8B9075E3-D0A6-453A-9FA0-F9DC8C561B68   \n",
       "\n",
       "                             learner_id                            content_id  \\\n",
       "0  5450C6C7-E473-4F06-9EF9-1B2A94642013  26425FEB-FD0E-4712-A508-ABB15D3137DF   \n",
       "1  98CB963C-39CE-4F27-9CE8-8FD1D59144FF  8ADEA0E5-0B3B-4DCF-B56C-16D51CD718F1   \n",
       "2  03A4E713-0768-4B41-97BF-EDCCA967D686  351619E4-5D4E-4FFB-A186-B2F91FA22DF7   \n",
       "3  01ADAD0B-8C42-44F7-944D-C87B294FE2A8  0BC10356-19FD-43BE-A478-168CC58A7F52   \n",
       "4  EFD4FCF3-8C8F-4899-84AC-61B4B6B1D39A  8DBC9932-E69E-4ECE-950F-94FF487EC011   \n",
       "\n",
       "     mode     status         completed_at              evaluator_email  \\\n",
       "0    Auto  COMPLETED  2025-01-13 10:48:48       mandar@mentorskool.com   \n",
       "1    Auto  COMPLETED  2025-02-28 11:06:16  shuchismita@mentorskool.com   \n",
       "2    Auto  COMPLETED  2025-01-13 04:30:38  burhanuddin@mentorskool.com   \n",
       "3    Auto  COMPLETED  2025-01-27 06:41:20    divyanshi@mentorskool.com   \n",
       "4  Manual  COMPLETED  2025-03-10 15:32:45         amit@mentorskool.com   \n",
       "\n",
       "          submitted_at  \n",
       "0  2025-01-13 10:48:50  \n",
       "1                  NaN  \n",
       "2  2025-01-13 04:30:37  \n",
       "3                  NaN  \n",
       "4  2025-03-08 07:45:22  "
      ]
     },
     "execution_count": 5,
     "metadata": {},
     "output_type": "execute_result"
    }
   ],
   "source": [
    "evaluation.head()"
   ]
  },
  {
   "cell_type": "code",
   "execution_count": 7,
   "metadata": {},
   "outputs": [
    {
     "data": {
      "text/html": [
       "<div>\n",
       "<style scoped>\n",
       "    .dataframe tbody tr th:only-of-type {\n",
       "        vertical-align: middle;\n",
       "    }\n",
       "\n",
       "    .dataframe tbody tr th {\n",
       "        vertical-align: top;\n",
       "    }\n",
       "\n",
       "    .dataframe thead th {\n",
       "        text-align: right;\n",
       "    }\n",
       "</style>\n",
       "<table border=\"1\" class=\"dataframe\">\n",
       "  <thead>\n",
       "    <tr style=\"text-align: right;\">\n",
       "      <th></th>\n",
       "      <th>id</th>\n",
       "      <th>learner_id</th>\n",
       "      <th>scenario_id</th>\n",
       "      <th>input_id</th>\n",
       "      <th>deployment_id</th>\n",
       "      <th>content_id</th>\n",
       "      <th>skill_path_id</th>\n",
       "      <th>status</th>\n",
       "      <th>total_score</th>\n",
       "      <th>score_obtained</th>\n",
       "      <th>skill_tree</th>\n",
       "      <th>created_at</th>\n",
       "      <th>position_in_skills_path</th>\n",
       "    </tr>\n",
       "  </thead>\n",
       "  <tbody>\n",
       "    <tr>\n",
       "      <th>0</th>\n",
       "      <td>E2AE387D-48B1-4B86-9139-00002B25DE69</td>\n",
       "      <td>5178FEE9-9E88-4890-A0B5-BB00F59178C3</td>\n",
       "      <td>EDD7C843-F3A7-4039-A800-6F4B99C7D13D</td>\n",
       "      <td>78631EA8-F1E5-43BE-9F4B-8779364A1D2F</td>\n",
       "      <td>943A912E-E0BF-42FD-B06C-F271F858E01C</td>\n",
       "      <td>EDD7C843-F3A7-4039-A800-6F4B99C7D13D</td>\n",
       "      <td>NaN</td>\n",
       "      <td>NOT_SUBMITTED</td>\n",
       "      <td>10</td>\n",
       "      <td>0</td>\n",
       "      <td>tool, snowflake, snowflake-data-transformation...</td>\n",
       "      <td>2025-03-16 00:31:05.067</td>\n",
       "      <td>NaN</td>\n",
       "    </tr>\n",
       "    <tr>\n",
       "      <th>1</th>\n",
       "      <td>D47FBCDB-9E15-4C57-A129-00007419FA59</td>\n",
       "      <td>5EEDC789-A7E0-4A3C-B97D-4C157C01F60F</td>\n",
       "      <td>26425FEB-FD0E-4712-A508-ABB15D3137DF</td>\n",
       "      <td>6E5CC111-5C55-4658-B0AC-A23A0ADC3557</td>\n",
       "      <td>252CE295-541B-42AE-A652-8B39BE1B1157</td>\n",
       "      <td>26425FEB-FD0E-4712-A508-ABB15D3137DF</td>\n",
       "      <td>NaN</td>\n",
       "      <td>COMPLETED</td>\n",
       "      <td>10</td>\n",
       "      <td>5</td>\n",
       "      <td>tool, sql</td>\n",
       "      <td>2025-03-16 00:05:08.690</td>\n",
       "      <td>NaN</td>\n",
       "    </tr>\n",
       "    <tr>\n",
       "      <th>2</th>\n",
       "      <td>9526EBFB-2083-459D-9D5C-00007839C589</td>\n",
       "      <td>36392531-5AEE-4182-8CF4-44FF4FF81408</td>\n",
       "      <td>436025B3-79C4-4716-9A0C-1B7C053C25E8</td>\n",
       "      <td>388121BD-4407-4EA2-A9DF-1A1490A0E47A</td>\n",
       "      <td>3D306AAD-D07A-4277-945F-7E3FE6FD9404</td>\n",
       "      <td>436025B3-79C4-4716-9A0C-1B7C053C25E8</td>\n",
       "      <td>NaN</td>\n",
       "      <td>COMPLETED</td>\n",
       "      <td>10</td>\n",
       "      <td>10</td>\n",
       "      <td>tool, power-bi</td>\n",
       "      <td>2025-01-09 00:03:39.190</td>\n",
       "      <td>NaN</td>\n",
       "    </tr>\n",
       "    <tr>\n",
       "      <th>3</th>\n",
       "      <td>9439F4AD-30E7-44EC-BA4C-0000F03AF026</td>\n",
       "      <td>29E2E257-2888-4A17-8420-7B56CF1FC78E</td>\n",
       "      <td>86EFF3E4-FF9A-4EDD-A023-EF526410535B</td>\n",
       "      <td>230BD4DE-600C-4894-9B44-619BE48396AC</td>\n",
       "      <td>88D5CB06-F3CC-46A5-9BCC-11D85B6DE71C</td>\n",
       "      <td>86EFF3E4-FF9A-4EDD-A023-EF526410535B</td>\n",
       "      <td>NaN</td>\n",
       "      <td>COMPLETED</td>\n",
       "      <td>10</td>\n",
       "      <td>10</td>\n",
       "      <td>tool, snowflake, data-loading-unloading, snowpipe</td>\n",
       "      <td>2025-03-16 00:34:00.053</td>\n",
       "      <td>NaN</td>\n",
       "    </tr>\n",
       "    <tr>\n",
       "      <th>4</th>\n",
       "      <td>1F1E4B3D-6E81-4300-A17B-0000FB169C06</td>\n",
       "      <td>F8BF4159-5922-4F73-AF11-939141308DA1</td>\n",
       "      <td>0133B0C2-E0FB-427B-8962-69B8D189D602</td>\n",
       "      <td>53EBC8A4-F14C-4B61-BD0C-A909B184956E</td>\n",
       "      <td>F48496A9-E75C-45F2-923E-B1DE4CE4EC9F</td>\n",
       "      <td>F15C4490-0B8F-48FF-ADEA-EBB45AA7F0FC</td>\n",
       "      <td>NaN</td>\n",
       "      <td>COMPLETED</td>\n",
       "      <td>10</td>\n",
       "      <td>8</td>\n",
       "      <td>skill, data-visualization, interpretation</td>\n",
       "      <td>2025-03-04 00:46:40.520</td>\n",
       "      <td>NaN</td>\n",
       "    </tr>\n",
       "  </tbody>\n",
       "</table>\n",
       "</div>"
      ],
      "text/plain": [
       "                                     id                            learner_id  \\\n",
       "0  E2AE387D-48B1-4B86-9139-00002B25DE69  5178FEE9-9E88-4890-A0B5-BB00F59178C3   \n",
       "1  D47FBCDB-9E15-4C57-A129-00007419FA59  5EEDC789-A7E0-4A3C-B97D-4C157C01F60F   \n",
       "2  9526EBFB-2083-459D-9D5C-00007839C589  36392531-5AEE-4182-8CF4-44FF4FF81408   \n",
       "3  9439F4AD-30E7-44EC-BA4C-0000F03AF026  29E2E257-2888-4A17-8420-7B56CF1FC78E   \n",
       "4  1F1E4B3D-6E81-4300-A17B-0000FB169C06  F8BF4159-5922-4F73-AF11-939141308DA1   \n",
       "\n",
       "                            scenario_id                              input_id  \\\n",
       "0  EDD7C843-F3A7-4039-A800-6F4B99C7D13D  78631EA8-F1E5-43BE-9F4B-8779364A1D2F   \n",
       "1  26425FEB-FD0E-4712-A508-ABB15D3137DF  6E5CC111-5C55-4658-B0AC-A23A0ADC3557   \n",
       "2  436025B3-79C4-4716-9A0C-1B7C053C25E8  388121BD-4407-4EA2-A9DF-1A1490A0E47A   \n",
       "3  86EFF3E4-FF9A-4EDD-A023-EF526410535B  230BD4DE-600C-4894-9B44-619BE48396AC   \n",
       "4  0133B0C2-E0FB-427B-8962-69B8D189D602  53EBC8A4-F14C-4B61-BD0C-A909B184956E   \n",
       "\n",
       "                          deployment_id                            content_id  \\\n",
       "0  943A912E-E0BF-42FD-B06C-F271F858E01C  EDD7C843-F3A7-4039-A800-6F4B99C7D13D   \n",
       "1  252CE295-541B-42AE-A652-8B39BE1B1157  26425FEB-FD0E-4712-A508-ABB15D3137DF   \n",
       "2  3D306AAD-D07A-4277-945F-7E3FE6FD9404  436025B3-79C4-4716-9A0C-1B7C053C25E8   \n",
       "3  88D5CB06-F3CC-46A5-9BCC-11D85B6DE71C  86EFF3E4-FF9A-4EDD-A023-EF526410535B   \n",
       "4  F48496A9-E75C-45F2-923E-B1DE4CE4EC9F  F15C4490-0B8F-48FF-ADEA-EBB45AA7F0FC   \n",
       "\n",
       "  skill_path_id         status  total_score  score_obtained  \\\n",
       "0           NaN  NOT_SUBMITTED           10               0   \n",
       "1           NaN      COMPLETED           10               5   \n",
       "2           NaN      COMPLETED           10              10   \n",
       "3           NaN      COMPLETED           10              10   \n",
       "4           NaN      COMPLETED           10               8   \n",
       "\n",
       "                                          skill_tree               created_at  \\\n",
       "0  tool, snowflake, snowflake-data-transformation...  2025-03-16 00:31:05.067   \n",
       "1                                          tool, sql  2025-03-16 00:05:08.690   \n",
       "2                                     tool, power-bi  2025-01-09 00:03:39.190   \n",
       "3  tool, snowflake, data-loading-unloading, snowpipe  2025-03-16 00:34:00.053   \n",
       "4          skill, data-visualization, interpretation  2025-03-04 00:46:40.520   \n",
       "\n",
       "   position_in_skills_path  \n",
       "0                      NaN  \n",
       "1                      NaN  \n",
       "2                      NaN  \n",
       "3                      NaN  \n",
       "4                      NaN  "
      ]
     },
     "execution_count": 7,
     "metadata": {},
     "output_type": "execute_result"
    }
   ],
   "source": [
    "score.head()"
   ]
  },
  {
   "cell_type": "code",
   "execution_count": 8,
   "metadata": {},
   "outputs": [
    {
     "data": {
      "text/plain": [
       "(242433, 13)"
      ]
     },
     "execution_count": 8,
     "metadata": {},
     "output_type": "execute_result"
    }
   ],
   "source": [
    "score.shape"
   ]
  },
  {
   "cell_type": "code",
   "execution_count": 9,
   "metadata": {},
   "outputs": [
    {
     "data": {
      "text/plain": [
       "(366, 5)"
      ]
     },
     "execution_count": 9,
     "metadata": {},
     "output_type": "execute_result"
    }
   ],
   "source": [
    "content.shape"
   ]
  },
  {
   "cell_type": "code",
   "execution_count": null,
   "metadata": {},
   "outputs": [],
   "source": [
    "content_score = score.merge(content, left_on='content_id', right_on='id', how='left')"
   ]
  },
  {
   "cell_type": "code",
   "execution_count": 13,
   "metadata": {},
   "outputs": [
    {
     "data": {
      "text/plain": [
       "type\n",
       "SCENARIO       267\n",
       "MASTERCLASS     56\n",
       "PROJECT         43\n",
       "Name: count, dtype: int64"
      ]
     },
     "execution_count": 13,
     "metadata": {},
     "output_type": "execute_result"
    }
   ],
   "source": [
    "content.type.value_counts()"
   ]
  },
  {
   "cell_type": "code",
   "execution_count": 14,
   "metadata": {},
   "outputs": [
    {
     "data": {
      "text/plain": [
       "Index(['id', 'program_id', 'intent', 'start_timestamp', 'end_timestamp',\n",
       "       'description', 'labels'],\n",
       "      dtype='object')"
      ]
     },
     "execution_count": 14,
     "metadata": {},
     "output_type": "execute_result"
    }
   ],
   "source": [
    "deployment.columns"
   ]
  },
  {
   "cell_type": "code",
   "execution_count": 15,
   "metadata": {},
   "outputs": [
    {
     "data": {
      "text/plain": [
       "labels\n",
       "snowpro-core-feb-2025               37\n",
       "dbx-de-associate-jan-2025           36\n",
       "alchemy-da-jan-feb-2025             34\n",
       "adv-sql-24-25                       16\n",
       "sql-problem-solving-hackathon-25     3\n",
       "ml-ops-hackathon-jan-25              1\n",
       "alchemy-foundation-cohort-4-2025     1\n",
       "data-science-hackathon-march-25      1\n",
       "alchemy-foundation-cohort-1-2025     1\n",
       "Name: count, dtype: int64"
      ]
     },
     "execution_count": 15,
     "metadata": {},
     "output_type": "execute_result"
    }
   ],
   "source": [
    "deployment.labels.value_counts()"
   ]
  },
  {
   "cell_type": "code",
   "execution_count": 16,
   "metadata": {},
   "outputs": [
    {
     "data": {
      "text/plain": [
       "intent\n",
       "Learning      375\n",
       "Assessment    166\n",
       "Hackathon       7\n",
       "Name: count, dtype: int64"
      ]
     },
     "execution_count": 16,
     "metadata": {},
     "output_type": "execute_result"
    }
   ],
   "source": [
    "deployment.intent.value_counts()"
   ]
  },
  {
   "cell_type": "code",
   "execution_count": 18,
   "metadata": {},
   "outputs": [],
   "source": [
    "deployment_score = score.merge(deployment, left_on='deployment_id', right_on='id', how='left')"
   ]
  },
  {
   "cell_type": "code",
   "execution_count": 19,
   "metadata": {},
   "outputs": [
    {
     "data": {
      "text/plain": [
       "(242433, 20)"
      ]
     },
     "execution_count": 19,
     "metadata": {},
     "output_type": "execute_result"
    }
   ],
   "source": [
    "deployment_score.shape"
   ]
  },
  {
   "cell_type": "code",
   "execution_count": 22,
   "metadata": {},
   "outputs": [],
   "source": [
    "assessment_score = deployment_score[deployment_score['intent']!='Learning']"
   ]
  },
  {
   "cell_type": "code",
   "execution_count": 23,
   "metadata": {},
   "outputs": [
    {
     "data": {
      "text/plain": [
       "(79564, 20)"
      ]
     },
     "execution_count": 23,
     "metadata": {},
     "output_type": "execute_result"
    }
   ],
   "source": [
    "assessment_score.shape"
   ]
  },
  {
   "cell_type": "code",
   "execution_count": 24,
   "metadata": {},
   "outputs": [
    {
     "data": {
      "text/plain": [
       "Index(['id_x', 'learner_id', 'scenario_id', 'input_id', 'deployment_id',\n",
       "       'content_id', 'skill_path_id', 'status', 'total_score',\n",
       "       'score_obtained', 'skill_tree', 'created_at', 'position_in_skills_path',\n",
       "       'id_y', 'program_id', 'intent', 'start_timestamp', 'end_timestamp',\n",
       "       'description', 'labels'],\n",
       "      dtype='object')"
      ]
     },
     "execution_count": 24,
     "metadata": {},
     "output_type": "execute_result"
    }
   ],
   "source": [
    "assessment_score.columns"
   ]
  },
  {
   "cell_type": "code",
   "execution_count": 25,
   "metadata": {},
   "outputs": [
    {
     "data": {
      "text/html": [
       "<div>\n",
       "<style scoped>\n",
       "    .dataframe tbody tr th:only-of-type {\n",
       "        vertical-align: middle;\n",
       "    }\n",
       "\n",
       "    .dataframe tbody tr th {\n",
       "        vertical-align: top;\n",
       "    }\n",
       "\n",
       "    .dataframe thead th {\n",
       "        text-align: right;\n",
       "    }\n",
       "</style>\n",
       "<table border=\"1\" class=\"dataframe\">\n",
       "  <thead>\n",
       "    <tr style=\"text-align: right;\">\n",
       "      <th></th>\n",
       "      <th>learner_id</th>\n",
       "      <th>program_id</th>\n",
       "      <th>labels</th>\n",
       "      <th>deployment_id</th>\n",
       "      <th>content_id</th>\n",
       "      <th>total_skill_score</th>\n",
       "      <th>total_overall_score</th>\n",
       "    </tr>\n",
       "  </thead>\n",
       "  <tbody>\n",
       "    <tr>\n",
       "      <th>0</th>\n",
       "      <td>000138B0-0829-4B14-95D3-E3E2FC2BAB41</td>\n",
       "      <td>4A98F2AD-DE48-490A-AD9A-0B820054935D</td>\n",
       "      <td>data-science-hackathon-march-25</td>\n",
       "      <td>470ED3C6-9121-47F0-BD83-61FBAF6B314F</td>\n",
       "      <td>18084BB1-D9DD-4A4B-AC92-4C958322CD7C</td>\n",
       "      <td>0</td>\n",
       "      <td>80</td>\n",
       "    </tr>\n",
       "    <tr>\n",
       "      <th>1</th>\n",
       "      <td>002227B6-81FE-40BB-AEBF-89D1A2E53CC5</td>\n",
       "      <td>ED9E2193-746D-4F11-9998-7CA36E6A1038</td>\n",
       "      <td>sql-problem-solving-hackathon-25</td>\n",
       "      <td>7D37E597-B212-455C-B744-B6B287B6C7AF</td>\n",
       "      <td>9DE45741-81F2-4709-B5D1-C668ED612DF5</td>\n",
       "      <td>0</td>\n",
       "      <td>230</td>\n",
       "    </tr>\n",
       "    <tr>\n",
       "      <th>2</th>\n",
       "      <td>002227B6-81FE-40BB-AEBF-89D1A2E53CC5</td>\n",
       "      <td>ED9E2193-746D-4F11-9998-7CA36E6A1038</td>\n",
       "      <td>sql-problem-solving-hackathon-25</td>\n",
       "      <td>8B9075E3-D0A6-453A-9FA0-F9DC8C561B68</td>\n",
       "      <td>8DBC9932-E69E-4ECE-950F-94FF487EC011</td>\n",
       "      <td>134</td>\n",
       "      <td>160</td>\n",
       "    </tr>\n",
       "    <tr>\n",
       "      <th>3</th>\n",
       "      <td>002227B6-81FE-40BB-AEBF-89D1A2E53CC5</td>\n",
       "      <td>ED9E2193-746D-4F11-9998-7CA36E6A1038</td>\n",
       "      <td>sql-problem-solving-hackathon-25</td>\n",
       "      <td>CB641299-D04D-40CE-A771-D171F7F56331</td>\n",
       "      <td>2EFBB047-189E-4FBA-AEFB-37A014615382</td>\n",
       "      <td>150</td>\n",
       "      <td>150</td>\n",
       "    </tr>\n",
       "    <tr>\n",
       "      <th>4</th>\n",
       "      <td>00394E11-3BCE-49AA-912B-6F850121AE06</td>\n",
       "      <td>4241A15D-44A7-491F-B5A3-B99511554D8F</td>\n",
       "      <td>alchemy-da-jan-feb-2025</td>\n",
       "      <td>0BDF5C33-D5CD-42D4-B5BB-CAEE8CA8B98A</td>\n",
       "      <td>98E34932-873E-4A61-B124-B01FA3022043</td>\n",
       "      <td>40</td>\n",
       "      <td>40</td>\n",
       "    </tr>\n",
       "  </tbody>\n",
       "</table>\n",
       "</div>"
      ],
      "text/plain": [
       "                             learner_id                            program_id  \\\n",
       "0  000138B0-0829-4B14-95D3-E3E2FC2BAB41  4A98F2AD-DE48-490A-AD9A-0B820054935D   \n",
       "1  002227B6-81FE-40BB-AEBF-89D1A2E53CC5  ED9E2193-746D-4F11-9998-7CA36E6A1038   \n",
       "2  002227B6-81FE-40BB-AEBF-89D1A2E53CC5  ED9E2193-746D-4F11-9998-7CA36E6A1038   \n",
       "3  002227B6-81FE-40BB-AEBF-89D1A2E53CC5  ED9E2193-746D-4F11-9998-7CA36E6A1038   \n",
       "4  00394E11-3BCE-49AA-912B-6F850121AE06  4241A15D-44A7-491F-B5A3-B99511554D8F   \n",
       "\n",
       "                             labels                         deployment_id  \\\n",
       "0   data-science-hackathon-march-25  470ED3C6-9121-47F0-BD83-61FBAF6B314F   \n",
       "1  sql-problem-solving-hackathon-25  7D37E597-B212-455C-B744-B6B287B6C7AF   \n",
       "2  sql-problem-solving-hackathon-25  8B9075E3-D0A6-453A-9FA0-F9DC8C561B68   \n",
       "3  sql-problem-solving-hackathon-25  CB641299-D04D-40CE-A771-D171F7F56331   \n",
       "4           alchemy-da-jan-feb-2025  0BDF5C33-D5CD-42D4-B5BB-CAEE8CA8B98A   \n",
       "\n",
       "                             content_id  total_skill_score  \\\n",
       "0  18084BB1-D9DD-4A4B-AC92-4C958322CD7C                  0   \n",
       "1  9DE45741-81F2-4709-B5D1-C668ED612DF5                  0   \n",
       "2  8DBC9932-E69E-4ECE-950F-94FF487EC011                134   \n",
       "3  2EFBB047-189E-4FBA-AEFB-37A014615382                150   \n",
       "4  98E34932-873E-4A61-B124-B01FA3022043                 40   \n",
       "\n",
       "   total_overall_score  \n",
       "0                   80  \n",
       "1                  230  \n",
       "2                  160  \n",
       "3                  150  \n",
       "4                   40  "
      ]
     },
     "execution_count": 25,
     "metadata": {},
     "output_type": "execute_result"
    }
   ],
   "source": [
    "# Grouping by learner, program_id, labels, deployment_id, and content_id\n",
    "grouped_df = assessment_score.groupby([\n",
    "    'learner_id',\n",
    "    'program_id',\n",
    "    'labels',\n",
    "    'deployment_id',\n",
    "    'content_id'\n",
    "], as_index=False).agg({\n",
    "    'score_obtained': 'sum',\n",
    "    'total_score': 'sum'\n",
    "})\n",
    "\n",
    "# Renaming columns for clarity\n",
    "grouped_df.rename(columns={\n",
    "    'score_obtained': 'total_skill_score',\n",
    "    'total_score': 'total_overall_score'\n",
    "}, inplace=True)\n",
    "\n",
    "grouped_df.head()"
   ]
  },
  {
   "cell_type": "code",
   "execution_count": 32,
   "metadata": {},
   "outputs": [],
   "source": [
    "score_report = pd.merge(grouped_df,content, left_on='content_id', right_on='id', how='left')\n",
    "score_report = pd.merge(score_report,clients, on = ['program_id','learner_id'], how= 'left')"
   ]
  },
  {
   "cell_type": "code",
   "execution_count": 33,
   "metadata": {},
   "outputs": [
    {
     "data": {
      "text/html": [
       "<div>\n",
       "<style scoped>\n",
       "    .dataframe tbody tr th:only-of-type {\n",
       "        vertical-align: middle;\n",
       "    }\n",
       "\n",
       "    .dataframe tbody tr th {\n",
       "        vertical-align: top;\n",
       "    }\n",
       "\n",
       "    .dataframe thead th {\n",
       "        text-align: right;\n",
       "    }\n",
       "</style>\n",
       "<table border=\"1\" class=\"dataframe\">\n",
       "  <thead>\n",
       "    <tr style=\"text-align: right;\">\n",
       "      <th></th>\n",
       "      <th>learner_id</th>\n",
       "      <th>program_id</th>\n",
       "      <th>labels</th>\n",
       "      <th>deployment_id</th>\n",
       "      <th>content_id</th>\n",
       "      <th>total_skill_score</th>\n",
       "      <th>total_overall_score</th>\n",
       "      <th>id</th>\n",
       "      <th>name</th>\n",
       "      <th>type</th>\n",
       "      <th>...</th>\n",
       "      <th>Client_name</th>\n",
       "      <th>code</th>\n",
       "      <th>code_description</th>\n",
       "      <th>owner_emails</th>\n",
       "      <th>spoc_emails</th>\n",
       "      <th>client_id</th>\n",
       "      <th>is_active</th>\n",
       "      <th>Program_created_at</th>\n",
       "      <th>email</th>\n",
       "      <th>learner_name</th>\n",
       "    </tr>\n",
       "  </thead>\n",
       "  <tbody>\n",
       "    <tr>\n",
       "      <th>0</th>\n",
       "      <td>000138B0-0829-4B14-95D3-E3E2FC2BAB41</td>\n",
       "      <td>4A98F2AD-DE48-490A-AD9A-0B820054935D</td>\n",
       "      <td>data-science-hackathon-march-25</td>\n",
       "      <td>470ED3C6-9121-47F0-BD83-61FBAF6B314F</td>\n",
       "      <td>18084BB1-D9DD-4A4B-AC92-4C958322CD7C</td>\n",
       "      <td>0</td>\n",
       "      <td>80</td>\n",
       "      <td>18084BB1-D9DD-4A4B-AC92-4C958322CD7C</td>\n",
       "      <td>Predicting Optimal Channel for New Product Launch</td>\n",
       "      <td>PROJECT</td>\n",
       "      <td>...</td>\n",
       "      <td>Fractal Analytics</td>\n",
       "      <td>data-science-hackathon-march-25</td>\n",
       "      <td>data-science-hackathon-march-25</td>\n",
       "      <td>[soma@mentorskool.com]</td>\n",
       "      <td>[vaibhav.pathak@fractal.ai]</td>\n",
       "      <td>E34E7F2B-49AF-4559-9184-28F6E8C95E05</td>\n",
       "      <td>True</td>\n",
       "      <td>2025-03-04 11:27:00.360</td>\n",
       "      <td>siddhesh.dosi@fractal.ai</td>\n",
       "      <td>Siddhesh  Dosi</td>\n",
       "    </tr>\n",
       "  </tbody>\n",
       "</table>\n",
       "<p>1 rows × 23 columns</p>\n",
       "</div>"
      ],
      "text/plain": [
       "                             learner_id                            program_id  \\\n",
       "0  000138B0-0829-4B14-95D3-E3E2FC2BAB41  4A98F2AD-DE48-490A-AD9A-0B820054935D   \n",
       "\n",
       "                            labels                         deployment_id  \\\n",
       "0  data-science-hackathon-march-25  470ED3C6-9121-47F0-BD83-61FBAF6B314F   \n",
       "\n",
       "                             content_id  total_skill_score  \\\n",
       "0  18084BB1-D9DD-4A4B-AC92-4C958322CD7C                  0   \n",
       "\n",
       "   total_overall_score                                    id  \\\n",
       "0                   80  18084BB1-D9DD-4A4B-AC92-4C958322CD7C   \n",
       "\n",
       "                                                name     type  ...  \\\n",
       "0  Predicting Optimal Channel for New Product Launch  PROJECT  ...   \n",
       "\n",
       "         Client_name                             code  \\\n",
       "0  Fractal Analytics  data-science-hackathon-march-25   \n",
       "\n",
       "                  code_description            owner_emails  \\\n",
       "0  data-science-hackathon-march-25  [soma@mentorskool.com]   \n",
       "\n",
       "                   spoc_emails                             client_id  \\\n",
       "0  [vaibhav.pathak@fractal.ai]  E34E7F2B-49AF-4559-9184-28F6E8C95E05   \n",
       "\n",
       "  is_active       Program_created_at                     email    learner_name  \n",
       "0      True  2025-03-04 11:27:00.360  siddhesh.dosi@fractal.ai  Siddhesh  Dosi  \n",
       "\n",
       "[1 rows x 23 columns]"
      ]
     },
     "execution_count": 33,
     "metadata": {},
     "output_type": "execute_result"
    }
   ],
   "source": [
    "score_report.head(1)"
   ]
  },
  {
   "cell_type": "code",
   "execution_count": 34,
   "metadata": {},
   "outputs": [
    {
     "data": {
      "text/plain": [
       "Index(['learner_id', 'program_id', 'labels', 'deployment_id', 'content_id',\n",
       "       'total_skill_score', 'total_overall_score', 'id', 'name', 'type',\n",
       "       'level', 'duration_of_completion', 'Unnamed: 0', 'Client_name', 'code',\n",
       "       'code_description', 'owner_emails', 'spoc_emails', 'client_id',\n",
       "       'is_active', 'Program_created_at', 'email', 'learner_name'],\n",
       "      dtype='object')"
      ]
     },
     "execution_count": 34,
     "metadata": {},
     "output_type": "execute_result"
    }
   ],
   "source": [
    "score_report.columns"
   ]
  },
  {
   "cell_type": "code",
   "execution_count": 36,
   "metadata": {},
   "outputs": [],
   "source": [
    "score_report.drop(['id','type','level', 'duration_of_completion', 'Unnamed: 0','owner_emails', 'spoc_emails','is_active', 'Program_created_at'], axis=1, inplace=True)"
   ]
  },
  {
   "cell_type": "code",
   "execution_count": 37,
   "metadata": {},
   "outputs": [],
   "source": [
    "score_report.to_csv(r\"G:\\My Drive\\ML\\2025\\Project\\Database Agent\\preparing_data\\score_report.csv\")"
   ]
  }
 ],
 "metadata": {
  "kernelspec": {
   "display_name": "aienv",
   "language": "python",
   "name": "python3"
  },
  "language_info": {
   "codemirror_mode": {
    "name": "ipython",
    "version": 3
   },
   "file_extension": ".py",
   "mimetype": "text/x-python",
   "name": "python",
   "nbconvert_exporter": "python",
   "pygments_lexer": "ipython3",
   "version": "3.9.21"
  }
 },
 "nbformat": 4,
 "nbformat_minor": 2
}
