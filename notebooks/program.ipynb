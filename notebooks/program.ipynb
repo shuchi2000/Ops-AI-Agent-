{
 "cells": [
  {
   "cell_type": "code",
   "execution_count": 2,
   "id": "d67811be",
   "metadata": {},
   "outputs": [
    {
     "data": {
      "text/plain": [
       "{'Fractal Analytics': array(['data-science-hackathon-march-25',\n",
       "        'fractal-genai-hackathon-pre-assessment-oct-24',\n",
       "        'fractal-imagineers-ds-batch-3-nov-24', 'ml-ops-hackathon-jan-25',\n",
       "        'sql-problem-solving-hackathon-25', 'fractal-bug-bounty-dec-24',\n",
       "        'fractal-genai-hackathon-assessment-nov 24',\n",
       "        'fractal-imagineers-ds-batch-1-nov-24',\n",
       "        'fractal-imagineers-ds-batch-2-nov-24'], dtype=object),\n",
       " 'Tiger Analytics': array(['adv-sql-24-25'], dtype=object),\n",
       " 'Tredence Inc': array(['tredence-alchemy-adv-batch-3-oct-24',\n",
       "        'tredence-alchemy-adv-batch-3-dbx-oct-24',\n",
       "        'tredence-snowpro-core-cert-ind-sep-24',\n",
       "        'tredence-snowpro-core-cert-na-aug-24',\n",
       "        'tredence-alchemy-adv-batch-3-gcp-oct-24',\n",
       "        'tredence-airflow-aug-24', 'dbx-de-associate-jan-2025',\n",
       "        'tredence-alchemy-foundation-cohort-5',\n",
       "        'tredence-snowpro-core-cert-ind-nov-24', 'snowpro-core-feb-2025',\n",
       "        'tredence-dbx-de-prof-cert-ind-sep-24',\n",
       "        'tredence-alchemy-snowflake-project-readiness-oct-24',\n",
       "        'tredence-snowpro-core-cert-ind-dec-24', 'alchemy-da-jan-feb-2025',\n",
       "        'alchemy-foundation-cohort-1-2025',\n",
       "        'alchemy-foundation-cohort-4-2025', 'tredence-alchemy-adv-aug-24',\n",
       "        'tredence-snowflake-adv-cert-ind-sep-24',\n",
       "        'tredence-alchemy-adv-batch-2-sep-24'], dtype=object)}"
      ]
     },
     "execution_count": 2,
     "metadata": {},
     "output_type": "execute_result"
    }
   ],
   "source": [
    "import pandas as pd\n",
    "\n",
    "# Function to fetch program codes under each client\n",
    "def fetch_program_codes(file_path):\n",
    "    # Read the CSV file\n",
    "    df = pd.read_csv(file_path)\n",
    "    \n",
    "    # Assuming the file has columns: 'client_name' and 'program_code'\n",
    "    if 'Client_name' not in df.columns or 'code' not in df.columns:\n",
    "        raise ValueError(\"CSV file must contain 'client_name' and 'program_code' columns\")\n",
    "    \n",
    "    # Group by client_name and collect program codes\n",
    "    client_programs = df.groupby('Client_name')['code'].unique().to_dict()\n",
    "    \n",
    "    return client_programs\n",
    "\n",
    "# Example usage (uncomment if you want to run standalone)\n",
    "client_programs = fetch_program_codes(\"../preparing_data/client_program_learner.csv\")\n",
    "client_programs\n",
    "\n"
   ]
  }
 ],
 "metadata": {
  "kernelspec": {
   "display_name": "ai_env",
   "language": "python",
   "name": "python3"
  },
  "language_info": {
   "codemirror_mode": {
    "name": "ipython",
    "version": 3
   },
   "file_extension": ".py",
   "mimetype": "text/x-python",
   "name": "python",
   "nbconvert_exporter": "python",
   "pygments_lexer": "ipython3",
   "version": "3.11.4"
  }
 },
 "nbformat": 4,
 "nbformat_minor": 5
}
