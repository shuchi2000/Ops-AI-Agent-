{
 "cells": [
  {
   "cell_type": "code",
   "execution_count": 1,
   "metadata": {},
   "outputs": [
    {
     "name": "stdout",
     "output_type": "stream",
     "text": [
      "Collecting mysql-connector-python\n",
      "  Downloading mysql_connector_python-9.2.0-cp39-cp39-win_amd64.whl.metadata (6.2 kB)\n",
      "Downloading mysql_connector_python-9.2.0-cp39-cp39-win_amd64.whl (16.1 MB)\n",
      "   ---------------------------------------- 0.0/16.1 MB ? eta -:--:--\n",
      "   - -------------------------------------- 0.8/16.1 MB 8.5 MB/s eta 0:00:02\n",
      "   ---- ----------------------------------- 1.8/16.1 MB 4.6 MB/s eta 0:00:04\n",
      "   ------ --------------------------------- 2.6/16.1 MB 4.1 MB/s eta 0:00:04\n",
      "   --------- ------------------------------ 3.7/16.1 MB 4.3 MB/s eta 0:00:03\n",
      "   ----------- ---------------------------- 4.5/16.1 MB 4.2 MB/s eta 0:00:03\n",
      "   ------------- -------------------------- 5.2/16.1 MB 4.1 MB/s eta 0:00:03\n",
      "   -------------- ------------------------- 6.0/16.1 MB 4.1 MB/s eta 0:00:03\n",
      "   ---------------- ----------------------- 6.8/16.1 MB 4.1 MB/s eta 0:00:03\n",
      "   ------------------ --------------------- 7.6/16.1 MB 4.1 MB/s eta 0:00:03\n",
      "   -------------------- ------------------- 8.4/16.1 MB 4.0 MB/s eta 0:00:02\n",
      "   ----------------------- ---------------- 9.4/16.1 MB 4.0 MB/s eta 0:00:02\n",
      "   ------------------------- -------------- 10.2/16.1 MB 4.0 MB/s eta 0:00:02\n",
      "   --------------------------- ------------ 11.0/16.1 MB 4.0 MB/s eta 0:00:02\n",
      "   ----------------------------- ---------- 11.8/16.1 MB 4.0 MB/s eta 0:00:02\n",
      "   ------------------------------- -------- 12.6/16.1 MB 4.0 MB/s eta 0:00:01\n",
      "   --------------------------------- ------ 13.4/16.1 MB 4.0 MB/s eta 0:00:01\n",
      "   ----------------------------------- ---- 14.4/16.1 MB 4.0 MB/s eta 0:00:01\n",
      "   ------------------------------------- -- 14.9/16.1 MB 3.9 MB/s eta 0:00:01\n",
      "   ---------------------------------------  16.0/16.1 MB 3.9 MB/s eta 0:00:01\n",
      "   ---------------------------------------- 16.1/16.1 MB 3.9 MB/s eta 0:00:00\n",
      "Installing collected packages: mysql-connector-python\n",
      "Successfully installed mysql-connector-python-9.2.0\n"
     ]
    }
   ],
   "source": [
    "!pip install mysql-connector-python"
   ]
  },
  {
   "cell_type": "code",
   "execution_count": 2,
   "metadata": {},
   "outputs": [
    {
     "name": "stdout",
     "output_type": "stream",
     "text": [
      "Error: 2003 (HY000): Can't connect to MySQL server on 'enqurious-reporting.database.windows.net:3306' (10060)\n"
     ]
    },
    {
     "ename": "NameError",
     "evalue": "name 'conn' is not defined",
     "output_type": "error",
     "traceback": [
      "\u001b[1;31m---------------------------------------------------------------------------\u001b[0m",
      "\u001b[1;31mNameError\u001b[0m                                 Traceback (most recent call last)",
      "Cell \u001b[1;32mIn[2], line 25\u001b[0m\n\u001b[0;32m     22\u001b[0m     \u001b[38;5;28mprint\u001b[39m(\u001b[38;5;124mf\u001b[39m\u001b[38;5;124m\"\u001b[39m\u001b[38;5;124mError: \u001b[39m\u001b[38;5;132;01m{\u001b[39;00merr\u001b[38;5;132;01m}\u001b[39;00m\u001b[38;5;124m\"\u001b[39m)\n\u001b[0;32m     24\u001b[0m \u001b[38;5;66;03m# Create a cursor object to execute queries\u001b[39;00m\n\u001b[1;32m---> 25\u001b[0m cursor \u001b[38;5;241m=\u001b[39m \u001b[43mconn\u001b[49m\u001b[38;5;241m.\u001b[39mcursor()\n\u001b[0;32m     27\u001b[0m \u001b[38;5;66;03m# Example query: Fetch the first 10 rows from a table named 'your_table'\u001b[39;00m\n\u001b[0;32m     28\u001b[0m query \u001b[38;5;241m=\u001b[39m \u001b[38;5;124m\"\u001b[39m\u001b[38;5;124mSELECT * FROM your_table LIMIT 10\u001b[39m\u001b[38;5;124m\"\u001b[39m\n",
      "\u001b[1;31mNameError\u001b[0m: name 'conn' is not defined"
     ]
    }
   ],
   "source": [
    "import mysql.connector\n",
    "\n",
    "# Provided connection details\n",
    "server_name = 'enqurious-reporting.database.windows.net '\n",
    "db_name = 'enqurious_1.2_reporting_db'\n",
    "username = 'enquriousV2_etl_read_only_user'\n",
    "password = 'oDgcxk5sPSEK*B2WcTT26zubvN$#'\n",
    "\n",
    "# Setup the connection configuration\n",
    "db_config = {\n",
    "    'host': server_name,\n",
    "    'user': username,\n",
    "    'password': password,\n",
    "    'database': db_name\n",
    "}\n",
    "\n",
    "# Establish the connection\n",
    "try:\n",
    "    conn = mysql.connector.connect(**db_config)\n",
    "    print(\"Connection successful!\")\n",
    "except mysql.connector.Error as err:\n",
    "    print(f\"Error: {err}\")\n",
    "\n",
    "\n"
   ]
  },
  {
   "cell_type": "code",
   "execution_count": null,
   "metadata": {},
   "outputs": [],
   "source": [
    "# Create a cursor object to execute queries\n",
    "cursor = conn.cursor()\n",
    "\n",
    "# Example query: Fetch the first 10 rows from a table named 'your_table'\n",
    "query = \"SELECT * FROM your_table LIMIT 10\"\n",
    "cursor.execute(query)\n",
    "\n",
    "# Fetch and display the results\n",
    "rows = cursor.fetchall()\n",
    "for row in rows:\n",
    "    print(row)\n",
    "\n",
    "# Clean up: close the cursor and connection\n",
    "cursor.close()\n",
    "conn.close()"
   ]
  },
  {
   "cell_type": "code",
   "execution_count": 4,
   "metadata": {},
   "outputs": [
    {
     "name": "stdout",
     "output_type": "stream",
     "text": [
      "Collecting pyodbc\n",
      "  Downloading pyodbc-5.2.0-cp39-cp39-win_amd64.whl.metadata (2.8 kB)\n",
      "Downloading pyodbc-5.2.0-cp39-cp39-win_amd64.whl (68 kB)\n",
      "Installing collected packages: pyodbc\n",
      "Successfully installed pyodbc-5.2.0\n"
     ]
    }
   ],
   "source": [
    "!pip install pyodbc"
   ]
  },
  {
   "cell_type": "code",
   "execution_count": 5,
   "metadata": {},
   "outputs": [
    {
     "name": "stdout",
     "output_type": "stream",
     "text": [
      "Connection successful!\n",
      "('F25FFAB6-15DF-4774-9C10-03CF263BF920', 'tredence-alchemy-adv-batch-3-oct-24', 'tredence-alchemy-adv-batch-3-oct-24', '[ayushi@mentorskool.com, sayli@mentorskool.com, shuchismitamallick@gmail.com, soma@mentorskool.com]', '[nagesh.v@tredence.com, nikitha.s@tredence.com,]', 'C766EF53-3E92-4C74-9B84-E324EE774E95', False, datetime.datetime(2024, 11, 6, 5, 40, 20, 790000))\n",
      "('A5010170-EFA2-4C7C-84DE-080246D15803', 'tredence-alchemy-adv-batch-3-dbx-oct-24', 'Tredence Alchemy Advance Batch 3 Databricks October 2024', '[ayushi@mentorskool.com, sayli@mentorskool.com, shuchismitamallick@gmail.com, soma@mentorskool.com]', '[nagesh.v@tredence.com, nikitha.s@tredence.com,]', 'C766EF53-3E92-4C74-9B84-E324EE774E95', False, datetime.datetime(2024, 11, 6, 6, 5, 46, 30000))\n",
      "('4A98F2AD-DE48-490A-AD9A-0B820054935D', 'data-science-hackathon-march-25', 'data-science-hackathon-march-25', '[soma@mentorskool.com]', '[vaibhav.pathak@fractal.ai]', 'E34E7F2B-49AF-4559-9184-28F6E8C95E05', True, datetime.datetime(2025, 3, 4, 11, 27, 0, 360000))\n",
      "('2935B90F-BC86-4C2B-98B2-1AE9F84D8AF8', 'tredence-snowpro-core-cert-ind-sep-24', 'Tredence Laterals Snowpro Sep Batch', '[mandar@mentorskool.com]', '[madhavi.gadde@tredence.com, manisha.bairwa@tredence.com]', 'C766EF53-3E92-4C74-9B84-E324EE774E95', False, datetime.datetime(2024, 10, 1, 12, 9, 43, 147000))\n",
      "('F4429D45-4142-488E-AA84-2DF2440F4A6A', 'adv-sql-24-25', 'tiger-advanced-sql-24-25', '[amit@mentorskool.com]', '[nivedha.ashok@tigeranalytics.com]', '24BAE8B4-8113-402E-B00D-2311FB49E09F', True, datetime.datetime(2024, 12, 19, 17, 16, 35, 650000))\n",
      "('7B89D21C-AC1C-4F17-BCB7-3BEA64E6568C', 'fractal-genai-hackathon-pre-assessment-oct-24', 'fractal-genai-hackathon-pre-assessment-oct-24', '[soma@mentorskool.com]', '[ramya.krishnakumar@fractal.ai]', 'E34E7F2B-49AF-4559-9184-28F6E8C95E05', False, datetime.datetime(2024, 11, 6, 5, 40, 20, 793000))\n",
      "('679C8529-B1A2-436E-94F2-44E389FC8C78', 'fractal-imagineers-ds-batch-3-nov-24', 'fractal-imagineers-decision science-batch-3-nov-24', '[shuchismitamallick@gmail.com]', '[vrushabh.bansode@fractal.ai]', 'E34E7F2B-49AF-4559-9184-28F6E8C95E05', False, datetime.datetime(2024, 12, 6, 15, 17, 44, 50000))\n",
      "('8F602154-7AF4-4E25-8E78-454CECC73941', 'tredence-snowpro-core-cert-na-aug-24', 'Tredence Laterals Snowflake North America Batch-Aug', '[mandar@mentorskool.com]', '[simi.kalsi01@tredence.com, sam.barnaba@tredence.com]', 'C766EF53-3E92-4C74-9B84-E324EE774E95', False, datetime.datetime(2024, 10, 2, 6, 30, 30, 40000))\n",
      "('3C2F112C-98AE-4703-BC67-592D29BFF8D5', 'tredence-alchemy-adv-batch-3-gcp-oct-24', 'Tredence Alchemy Advance Batch 3 GCP October 2024', '[ayushi@mentorskool.com, sayli@mentorskool.com, shuchismitamallick@gmail.com, soma@mentorskool.com]', '[nagesh.v@tredence.com, nikitha.s@tredence.com,]', 'C766EF53-3E92-4C74-9B84-E324EE774E95', False, datetime.datetime(2024, 11, 6, 6, 4, 31, 477000))\n",
      "('A2349F12-EC1E-4E23-9E64-5C81CFFF1C0B', 'tredence-airflow-aug-24', 'Tredence Airflow Fundamentals ToC for TMT Vertical-Cohort 1', '[burhanuddin@mentorskool.com, amit@mentorskool.com]', '[mranalini.pareek@tredence.com]', 'C766EF53-3E92-4C74-9B84-E324EE774E95', False, datetime.datetime(2024, 9, 25, 14, 9, 23, 983000))\n"
     ]
    }
   ],
   "source": [
    "import pyodbc\n",
    "\n",
    "# Replace with your actual details\n",
    "server_name = 'enqurious-reporting.database.windows.net'\n",
    "db_name = 'enqurious_1.2_reporting_db'\n",
    "username = 'enquriousV2_etl_read_only_user'\n",
    "password = 'oDgcxk5sPSEK*B2WcTT26zubvN$#'\n",
    "\n",
    "# ODBC connection string for Azure SQL\n",
    "connection_string = (\n",
    "    f\"DRIVER={{ODBC Driver 17 for SQL Server}};\"\n",
    "    f\"SERVER={server_name};\"\n",
    "    f\"DATABASE={db_name};\"\n",
    "    f\"UID={username};\"\n",
    "    f\"PWD={password};\"\n",
    "    # Recommended for Azure\n",
    "    \"Encrypt=yes;\"\n",
    "    \"TrustServerCertificate=no;\"\n",
    "    \"Connection Timeout=30;\"\n",
    ")\n",
    "\n",
    "try:\n",
    "    conn = pyodbc.connect(connection_string)\n",
    "    print(\"Connection successful!\")\n",
    "    cursor = conn.cursor()\n",
    "\n",
    "    # Example query\n",
    "    query = \"SELECT TOP 10 * FROM EnquriousV2.programs\"\n",
    "    cursor.execute(query)\n",
    "    rows = cursor.fetchall()\n",
    "\n",
    "    for row in rows:\n",
    "        print(row)\n",
    "\n",
    "    cursor.close()\n",
    "    conn.close()\n",
    "except pyodbc.Error as e:\n",
    "    print(\"Error:\", e)\n"
   ]
  },
  {
   "cell_type": "code",
   "execution_count": 9,
   "metadata": {},
   "outputs": [
    {
     "name": "stdout",
     "output_type": "stream",
     "text": [
      "Connection successful!\n",
      "Tables found: ['contents', 'skill_path', 'deployments', 'scenarios', 'nuvepro_etl_track_data', 'progress', 'nuvepro_lab_reports', 'inputs', 'meetings', 'attendance', 'meeting_invitees', 'evaluations', 'progress_snapshot', 'skills_scores', 'clients', 'programs', 'learners', 'nuvepro_program_wise_learners_labs', 'program_wise_learners']\n",
      "results []\n"
     ]
    }
   ],
   "source": [
    "import pyodbc\n",
    "import pandas as pd\n",
    "\n",
    "# Replace with your actual details\n",
    "server_name = 'enqurious-reporting.database.windows.net'\n",
    "db_name = 'enqurious_1.2_reporting_db'\n",
    "username = 'enquriousV2_etl_read_only_user'\n",
    "password = 'oDgcxk5sPSEK*B2WcTT26zubvN$#'\n",
    "\n",
    "# ODBC connection string for Azure SQL\n",
    "connection_string = (\n",
    "    f\"DRIVER={{ODBC Driver 17 for SQL Server}};\"\n",
    "    f\"SERVER={server_name};\"\n",
    "    f\"DATABASE={db_name};\"\n",
    "    f\"UID={username};\"\n",
    "    f\"PWD={password};\"\n",
    "    \"Encrypt=yes;\"\n",
    "    \"TrustServerCertificate=no;\"\n",
    "    \"Connection Timeout=30;\"\n",
    ")\n",
    "\n",
    "try:\n",
    "    # Connect to the database\n",
    "    conn = pyodbc.connect(connection_string)\n",
    "    print(\"Connection successful!\")\n",
    "\n",
    "    # Create a cursor\n",
    "    cursor = conn.cursor()\n",
    "\n",
    "    # -------------------------------------------------------------------------\n",
    "    # 1. Get a list of all table names in the database\n",
    "    # -------------------------------------------------------------------------\n",
    "    cursor.execute(\"\"\"\n",
    "        SELECT TABLE_NAME\n",
    "        FROM INFORMATION_SCHEMA.TABLES\n",
    "        WHERE TABLE_TYPE = 'BASE TABLE'\n",
    "    \"\"\")\n",
    "    \n",
    "    tables = [row[0] for row in cursor.fetchall()]\n",
    "    print(\"Tables found:\", tables)\n",
    "    results = cursor.fetchall()\n",
    "    print(\"results\", results)\n",
    "    # -------------------------------------------------------------------------\n",
    "    # 2. For each table, fetch all rows into a DataFrame\n",
    "    # -------------------------------------------------------------------------\n",
    "    dataframes = {}  # Dictionary to store table_name -> DataFrame\n",
    "\n",
    "    for schema_name, table_name in results:\n",
    "        # Use fully qualified name: [schema].[table]\n",
    "        fq_table_name = f\"[{schema_name}].[{table_name}]\"\n",
    "        query = f\"SELECT * FROM {fq_table_name}\"\n",
    "        print(f\"Querying {fq_table_name} ...\")\n",
    "        \n",
    "        # Although pandas warns about direct DBAPI usage, it still often works:\n",
    "        df = pd.read_sql(query, conn)\n",
    "        dataframes[table_name] = df\n",
    "        print(f\"  -> Loaded {len(df)} rows from {fq_table_name}\")\n",
    "\n",
    "    # Close the cursor and connection\n",
    "    cursor.close()\n",
    "    conn.close()\n",
    "\n",
    "except pyodbc.Error as e:\n",
    "    print(\"Error:\", e)\n"
   ]
  },
  {
   "cell_type": "code",
   "execution_count": 11,
   "metadata": {},
   "outputs": [
    {
     "name": "stdout",
     "output_type": "stream",
     "text": [
      "Connection successful!\n",
      "Querying [enquriousV2].[contents] ...\n",
      "  -> Loaded 366 rows from [enquriousV2].[contents]\n",
      "  -> Saved to: csv_output\\enquriousV2_contents.csv\n",
      "Querying [enquriousV2].[skill_path] ...\n"
     ]
    },
    {
     "name": "stderr",
     "output_type": "stream",
     "text": [
      "C:\\Users\\shuchismita_mallick.Shuchismita\\AppData\\Local\\Temp\\ipykernel_26196\\2028583470.py:31: UserWarning: pandas only supports SQLAlchemy connectable (engine/connection) or database string URI or sqlite3 DBAPI2 connection. Other DBAPI2 objects are not tested. Please consider using SQLAlchemy.\n",
      "  df = pd.read_sql(query, conn)\n"
     ]
    },
    {
     "name": "stdout",
     "output_type": "stream",
     "text": [
      "  -> Loaded 15 rows from [enquriousV2].[skill_path]\n",
      "  -> Saved to: csv_output\\enquriousV2_skill_path.csv\n",
      "Querying [enquriousV2].[deployments] ...\n",
      "  -> Loaded 548 rows from [enquriousV2].[deployments]\n",
      "  -> Saved to: csv_output\\enquriousV2_deployments.csv\n",
      "Querying [enquriousV2].[scenarios] ...\n",
      "  -> Loaded 570 rows from [enquriousV2].[scenarios]\n",
      "  -> Saved to: csv_output\\enquriousV2_scenarios.csv\n",
      "Querying [enquriousV2].[nuvepro_etl_track_data] ...\n",
      "  -> Loaded 1 rows from [enquriousV2].[nuvepro_etl_track_data]\n",
      "  -> Saved to: csv_output\\enquriousV2_nuvepro_etl_track_data.csv\n",
      "Querying [enquriousV2].[progress] ...\n",
      "  -> Loaded 25357 rows from [enquriousV2].[progress]\n",
      "  -> Saved to: csv_output\\enquriousV2_progress.csv\n",
      "Querying [enquriousV2].[nuvepro_lab_reports] ...\n",
      "  -> Loaded 459 rows from [enquriousV2].[nuvepro_lab_reports]\n",
      "  -> Saved to: csv_output\\enquriousV2_nuvepro_lab_reports.csv\n",
      "Querying [enquriousV2].[inputs] ...\n",
      "  -> Loaded 4915 rows from [enquriousV2].[inputs]\n",
      "  -> Saved to: csv_output\\enquriousV2_inputs.csv\n",
      "Querying [enquriousV2].[meetings] ...\n",
      "  -> Loaded 74 rows from [enquriousV2].[meetings]\n",
      "  -> Saved to: csv_output\\enquriousV2_meetings.csv\n",
      "Querying [enquriousV2].[attendance] ...\n",
      "  -> Loaded 1380 rows from [enquriousV2].[attendance]\n",
      "  -> Saved to: csv_output\\enquriousV2_attendance.csv\n",
      "Querying [enquriousV2].[meeting_invitees] ...\n",
      "  -> Loaded 1249 rows from [enquriousV2].[meeting_invitees]\n",
      "  -> Saved to: csv_output\\enquriousV2_meeting_invitees.csv\n",
      "Querying [enquriousV2].[evaluations] ...\n",
      "  -> Loaded 5681 rows from [enquriousV2].[evaluations]\n",
      "  -> Saved to: csv_output\\enquriousV2_evaluations.csv\n",
      "Querying [enquriousV2].[progress_snapshot] ...\n",
      "  -> Loaded 509985 rows from [enquriousV2].[progress_snapshot]\n",
      "  -> Saved to: csv_output\\enquriousV2_progress_snapshot.csv\n",
      "Querying [enquriousV2].[skills_scores] ...\n",
      "  -> Loaded 242433 rows from [enquriousV2].[skills_scores]\n",
      "  -> Saved to: csv_output\\enquriousV2_skills_scores.csv\n",
      "Querying [enquriousV2].[clients] ...\n",
      "  -> Loaded 7 rows from [enquriousV2].[clients]\n",
      "  -> Saved to: csv_output\\enquriousV2_clients.csv\n",
      "Querying [enquriousV2].[programs] ...\n",
      "  -> Loaded 29 rows from [enquriousV2].[programs]\n",
      "  -> Saved to: csv_output\\enquriousV2_programs.csv\n",
      "Querying [enquriousV2].[learners] ...\n",
      "  -> Loaded 1161 rows from [enquriousV2].[learners]\n",
      "  -> Saved to: csv_output\\enquriousV2_learners.csv\n",
      "Querying [enquriousV2].[nuvepro_program_wise_learners_labs] ...\n",
      "  -> Loaded 393 rows from [enquriousV2].[nuvepro_program_wise_learners_labs]\n",
      "  -> Saved to: csv_output\\enquriousV2_nuvepro_program_wise_learners_labs.csv\n",
      "Querying [enquriousV2].[program_wise_learners] ...\n",
      "  -> Loaded 1303 rows from [enquriousV2].[program_wise_learners]\n",
      "  -> Saved to: csv_output\\enquriousV2_program_wise_learners.csv\n"
     ]
    }
   ],
   "source": [
    "import os \n",
    "\n",
    "# Adjust this to the folder where you want to save the CSV files\n",
    "output_folder = \"csv_output\"\n",
    "\n",
    "# Create the folder if it doesn't exist\n",
    "os.makedirs(output_folder, exist_ok=True)\n",
    "\n",
    "try:\n",
    "    conn = pyodbc.connect(connection_string)\n",
    "    print(\"Connection successful!\")\n",
    "    cursor = conn.cursor()\n",
    "\n",
    "    # Get all schema & table names\n",
    "    cursor.execute(\"\"\"\n",
    "        SELECT TABLE_SCHEMA, TABLE_NAME\n",
    "        FROM INFORMATION_SCHEMA.TABLES\n",
    "        WHERE TABLE_TYPE = 'BASE TABLE'\n",
    "    \"\"\")\n",
    "    results = cursor.fetchall()\n",
    "\n",
    "    dataframes = {}\n",
    "\n",
    "    for schema_name, table_name in results:\n",
    "        # Use fully qualified name: [schema].[table]\n",
    "        fq_table_name = f\"[{schema_name}].[{table_name}]\"\n",
    "        query = f\"SELECT * FROM {fq_table_name}\"\n",
    "        print(f\"Querying {fq_table_name} ...\")\n",
    "        \n",
    "        # Although pandas warns about direct DBAPI usage, it still often works:\n",
    "        df = pd.read_sql(query, conn)\n",
    "        dataframes[table_name] = df\n",
    "        print(f\"  -> Loaded {len(df)} rows from {fq_table_name}\")\n",
    "\n",
    "        # Create a filename that includes the schema and table\n",
    "        # Example: \"dbo_contents.csv\"\n",
    "        filename = f\"{schema_name}_{table_name}.csv\"\n",
    "        filepath = os.path.join(output_folder, filename)\n",
    "\n",
    "        # Save the DataFrame to CSV (no index by default)\n",
    "        df.to_csv(filepath, index=False, encoding=\"utf-8-sig\")\n",
    "        print(f\"  -> Saved to: {filepath}\")\n",
    "\n",
    "    cursor.close()\n",
    "    conn.close()\n",
    "\n",
    "except pyodbc.Error as e:\n",
    "    print(\"Error:\", e)"
   ]
  }
 ],
 "metadata": {
  "kernelspec": {
   "display_name": "aienv",
   "language": "python",
   "name": "python3"
  },
  "language_info": {
   "codemirror_mode": {
    "name": "ipython",
    "version": 3
   },
   "file_extension": ".py",
   "mimetype": "text/x-python",
   "name": "python",
   "nbconvert_exporter": "python",
   "pygments_lexer": "ipython3",
   "version": "3.9.21"
  }
 },
 "nbformat": 4,
 "nbformat_minor": 2
}
